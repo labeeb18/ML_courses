{
 "cells": [
  {
   "cell_type": "markdown",
   "id": "29a2a84d",
   "metadata": {},
   "source": [
    "### OBJECTIVE\n",
    "To predict the default on credit data based on different features about the individuals from the credit data.\n"
   ]
  },
  {
   "cell_type": "markdown",
   "id": "dcf618c9",
   "metadata": {},
   "source": [
    "### TASK 1: Exploratory Data Analysis(EDA)"
   ]
  },
  {
   "cell_type": "code",
   "execution_count": 2,
   "id": "29a2452c",
   "metadata": {},
   "outputs": [],
   "source": [
    "#importing relevant libraries \n",
    "import pandas as pd\n",
    "import numpy as np\n",
    "from sklearn import preprocessing\n",
    "import matplotlib.pyplot as plt \n",
    "plt.rc(\"font\", size=14)\n",
    "from sklearn.linear_model import LogisticRegression\n",
    "from sklearn.model_selection import train_test_split\n",
    "import seaborn as sns\n",
    "sns.set(style=\"white\")\n",
    "sns.set(style=\"whitegrid\", color_codes=True)"
   ]
  },
  {
   "cell_type": "code",
   "execution_count": 3,
   "id": "40456ab8",
   "metadata": {},
   "outputs": [],
   "source": [
    "df_train=pd.read_csv(\"train.csv\",index_col=0)\n",
    "df_test=pd.read_csv(\"test.csv\",index_col=0)\n",
    "\n"
   ]
  },
  {
   "cell_type": "code",
   "execution_count": 4,
   "id": "59b8beb0",
   "metadata": {},
   "outputs": [
    {
     "data": {
      "text/html": [
       "<div>\n",
       "<style scoped>\n",
       "    .dataframe tbody tr th:only-of-type {\n",
       "        vertical-align: middle;\n",
       "    }\n",
       "\n",
       "    .dataframe tbody tr th {\n",
       "        vertical-align: top;\n",
       "    }\n",
       "\n",
       "    .dataframe thead th {\n",
       "        text-align: right;\n",
       "    }\n",
       "</style>\n",
       "<table border=\"1\" class=\"dataframe\">\n",
       "  <thead>\n",
       "    <tr style=\"text-align: right;\">\n",
       "      <th></th>\n",
       "      <th>X1</th>\n",
       "      <th>X2</th>\n",
       "      <th>X3</th>\n",
       "      <th>X4</th>\n",
       "      <th>X5</th>\n",
       "      <th>X6</th>\n",
       "      <th>X7</th>\n",
       "      <th>X8</th>\n",
       "      <th>X9</th>\n",
       "      <th>X10</th>\n",
       "      <th>...</th>\n",
       "      <th>X15</th>\n",
       "      <th>X16</th>\n",
       "      <th>X17</th>\n",
       "      <th>X18</th>\n",
       "      <th>X19</th>\n",
       "      <th>X20</th>\n",
       "      <th>X21</th>\n",
       "      <th>X22</th>\n",
       "      <th>X23</th>\n",
       "      <th>Y</th>\n",
       "    </tr>\n",
       "  </thead>\n",
       "  <tbody>\n",
       "    <tr>\n",
       "      <th>1</th>\n",
       "      <td>20000</td>\n",
       "      <td>2</td>\n",
       "      <td>2</td>\n",
       "      <td>1</td>\n",
       "      <td>24</td>\n",
       "      <td>2</td>\n",
       "      <td>2</td>\n",
       "      <td>-1</td>\n",
       "      <td>-1</td>\n",
       "      <td>-2</td>\n",
       "      <td>...</td>\n",
       "      <td>0</td>\n",
       "      <td>0</td>\n",
       "      <td>0</td>\n",
       "      <td>0</td>\n",
       "      <td>689</td>\n",
       "      <td>0</td>\n",
       "      <td>0</td>\n",
       "      <td>0</td>\n",
       "      <td>0</td>\n",
       "      <td>1</td>\n",
       "    </tr>\n",
       "    <tr>\n",
       "      <th>2</th>\n",
       "      <td>120000</td>\n",
       "      <td>2</td>\n",
       "      <td>2</td>\n",
       "      <td>2</td>\n",
       "      <td>26</td>\n",
       "      <td>-1</td>\n",
       "      <td>2</td>\n",
       "      <td>0</td>\n",
       "      <td>0</td>\n",
       "      <td>0</td>\n",
       "      <td>...</td>\n",
       "      <td>3272</td>\n",
       "      <td>3455</td>\n",
       "      <td>3261</td>\n",
       "      <td>0</td>\n",
       "      <td>1000</td>\n",
       "      <td>1000</td>\n",
       "      <td>1000</td>\n",
       "      <td>0</td>\n",
       "      <td>2000</td>\n",
       "      <td>1</td>\n",
       "    </tr>\n",
       "    <tr>\n",
       "      <th>3</th>\n",
       "      <td>90000</td>\n",
       "      <td>2</td>\n",
       "      <td>2</td>\n",
       "      <td>2</td>\n",
       "      <td>34</td>\n",
       "      <td>0</td>\n",
       "      <td>0</td>\n",
       "      <td>0</td>\n",
       "      <td>0</td>\n",
       "      <td>0</td>\n",
       "      <td>...</td>\n",
       "      <td>14331</td>\n",
       "      <td>14948</td>\n",
       "      <td>15549</td>\n",
       "      <td>1518</td>\n",
       "      <td>1500</td>\n",
       "      <td>1000</td>\n",
       "      <td>1000</td>\n",
       "      <td>1000</td>\n",
       "      <td>5000</td>\n",
       "      <td>0</td>\n",
       "    </tr>\n",
       "    <tr>\n",
       "      <th>4</th>\n",
       "      <td>50000</td>\n",
       "      <td>2</td>\n",
       "      <td>2</td>\n",
       "      <td>1</td>\n",
       "      <td>37</td>\n",
       "      <td>0</td>\n",
       "      <td>0</td>\n",
       "      <td>0</td>\n",
       "      <td>0</td>\n",
       "      <td>0</td>\n",
       "      <td>...</td>\n",
       "      <td>28314</td>\n",
       "      <td>28959</td>\n",
       "      <td>29547</td>\n",
       "      <td>2000</td>\n",
       "      <td>2019</td>\n",
       "      <td>1200</td>\n",
       "      <td>1100</td>\n",
       "      <td>1069</td>\n",
       "      <td>1000</td>\n",
       "      <td>0</td>\n",
       "    </tr>\n",
       "    <tr>\n",
       "      <th>5</th>\n",
       "      <td>50000</td>\n",
       "      <td>1</td>\n",
       "      <td>2</td>\n",
       "      <td>1</td>\n",
       "      <td>57</td>\n",
       "      <td>-1</td>\n",
       "      <td>0</td>\n",
       "      <td>-1</td>\n",
       "      <td>0</td>\n",
       "      <td>0</td>\n",
       "      <td>...</td>\n",
       "      <td>20940</td>\n",
       "      <td>19146</td>\n",
       "      <td>19131</td>\n",
       "      <td>2000</td>\n",
       "      <td>36681</td>\n",
       "      <td>10000</td>\n",
       "      <td>9000</td>\n",
       "      <td>689</td>\n",
       "      <td>679</td>\n",
       "      <td>0</td>\n",
       "    </tr>\n",
       "  </tbody>\n",
       "</table>\n",
       "<p>5 rows × 24 columns</p>\n",
       "</div>"
      ],
      "text/plain": [
       "       X1  X2  X3  X4  X5  X6  X7  X8  X9  X10  ...    X15    X16    X17  \\\n",
       "1   20000   2   2   1  24   2   2  -1  -1   -2  ...      0      0      0   \n",
       "2  120000   2   2   2  26  -1   2   0   0    0  ...   3272   3455   3261   \n",
       "3   90000   2   2   2  34   0   0   0   0    0  ...  14331  14948  15549   \n",
       "4   50000   2   2   1  37   0   0   0   0    0  ...  28314  28959  29547   \n",
       "5   50000   1   2   1  57  -1   0  -1   0    0  ...  20940  19146  19131   \n",
       "\n",
       "    X18    X19    X20   X21   X22   X23  Y  \n",
       "1     0    689      0     0     0     0  1  \n",
       "2     0   1000   1000  1000     0  2000  1  \n",
       "3  1518   1500   1000  1000  1000  5000  0  \n",
       "4  2000   2019   1200  1100  1069  1000  0  \n",
       "5  2000  36681  10000  9000   689   679  0  \n",
       "\n",
       "[5 rows x 24 columns]"
      ]
     },
     "execution_count": 4,
     "metadata": {},
     "output_type": "execute_result"
    }
   ],
   "source": [
    "df_train.head()"
   ]
  },
  {
   "cell_type": "markdown",
   "id": "abc9230e",
   "metadata": {},
   "source": [
    "1.1 Number of rows and columns in train and test data\n"
   ]
  },
  {
   "cell_type": "code",
   "execution_count": 5,
   "id": "8e508adb",
   "metadata": {},
   "outputs": [
    {
     "name": "stdout",
     "output_type": "stream",
     "text": [
      "(27000, 24)\n",
      "(3003, 24)\n"
     ]
    }
   ],
   "source": [
    "print(df_train.shape)\n",
    "print(df_test.shape)"
   ]
  },
  {
   "cell_type": "code",
   "execution_count": 6,
   "id": "b6bc0904",
   "metadata": {},
   "outputs": [
    {
     "name": "stdout",
     "output_type": "stream",
     "text": [
      "['X1', 'X2', 'X3', 'X4', 'X5', 'X6', 'X7', 'X8', 'X9', 'X10', 'X11', 'X12', 'X13', 'X14', 'X15', 'X16', 'X17', 'X18', 'X19', 'X20', 'X21', 'X22', 'X23', 'Y']\n"
     ]
    }
   ],
   "source": [
    "print(list(df_train.columns))"
   ]
  },
  {
   "cell_type": "code",
   "execution_count": 8,
   "id": "0ab82c29",
   "metadata": {},
   "outputs": [
    {
     "data": {
      "text/plain": [
       "Index(['X1', 'X2', 'X3', 'X4', 'X5', 'X6', 'X7', 'X8', 'X9', 'X10', 'X11',\n",
       "       'X12', 'X13', 'X14', 'X15', 'X16', 'X17', 'X18', 'X19', 'X20', 'X21',\n",
       "       'X22', 'X23', 'Y'],\n",
       "      dtype='object')"
      ]
     },
     "execution_count": 8,
     "metadata": {},
     "output_type": "execute_result"
    }
   ],
   "source": [
    "df_train.columns"
   ]
  },
  {
   "cell_type": "markdown",
   "id": "3208834a",
   "metadata": {},
   "source": [
    "1.4\tPlots of relationship of various independent variables with dependent variable"
   ]
  },
  {
   "cell_type": "code",
   "execution_count": 9,
   "id": "5922ca5c",
   "metadata": {},
   "outputs": [],
   "source": [
    "#Relationship between Gender and Fraud(Default)\n",
    "Y=df_train[\"Y\"]\n",
    "X2=df_train[\"X2\"]\n",
    "cross_norm1 = pd.crosstab(X2, Y, normalize=0)\n",
    "cross = pd.crosstab(X2, Y)"
   ]
  },
  {
   "cell_type": "code",
   "execution_count": 10,
   "id": "0eaedd3e",
   "metadata": {},
   "outputs": [
    {
     "data": {
      "text/html": [
       "<div>\n",
       "<style scoped>\n",
       "    .dataframe tbody tr th:only-of-type {\n",
       "        vertical-align: middle;\n",
       "    }\n",
       "\n",
       "    .dataframe tbody tr th {\n",
       "        vertical-align: top;\n",
       "    }\n",
       "\n",
       "    .dataframe thead th {\n",
       "        text-align: right;\n",
       "    }\n",
       "</style>\n",
       "<table border=\"1\" class=\"dataframe\">\n",
       "  <thead>\n",
       "    <tr style=\"text-align: right;\">\n",
       "      <th>Y</th>\n",
       "      <th>0</th>\n",
       "      <th>1</th>\n",
       "    </tr>\n",
       "    <tr>\n",
       "      <th>X2</th>\n",
       "      <th></th>\n",
       "      <th></th>\n",
       "    </tr>\n",
       "  </thead>\n",
       "  <tbody>\n",
       "    <tr>\n",
       "      <th>1</th>\n",
       "      <td>7957</td>\n",
       "      <td>2523</td>\n",
       "    </tr>\n",
       "    <tr>\n",
       "      <th>2</th>\n",
       "      <td>13070</td>\n",
       "      <td>3450</td>\n",
       "    </tr>\n",
       "  </tbody>\n",
       "</table>\n",
       "</div>"
      ],
      "text/plain": [
       "Y       0     1\n",
       "X2             \n",
       "1    7957  2523\n",
       "2   13070  3450"
      ]
     },
     "execution_count": 10,
     "metadata": {},
     "output_type": "execute_result"
    }
   ],
   "source": [
    "cross"
   ]
  },
  {
   "cell_type": "code",
   "execution_count": 11,
   "id": "55331d8d",
   "metadata": {},
   "outputs": [
    {
     "data": {
      "text/html": [
       "<div>\n",
       "<style scoped>\n",
       "    .dataframe tbody tr th:only-of-type {\n",
       "        vertical-align: middle;\n",
       "    }\n",
       "\n",
       "    .dataframe tbody tr th {\n",
       "        vertical-align: top;\n",
       "    }\n",
       "\n",
       "    .dataframe thead th {\n",
       "        text-align: right;\n",
       "    }\n",
       "</style>\n",
       "<table border=\"1\" class=\"dataframe\">\n",
       "  <thead>\n",
       "    <tr style=\"text-align: right;\">\n",
       "      <th>Y</th>\n",
       "      <th>0</th>\n",
       "      <th>1</th>\n",
       "    </tr>\n",
       "    <tr>\n",
       "      <th>X2</th>\n",
       "      <th></th>\n",
       "      <th></th>\n",
       "    </tr>\n",
       "  </thead>\n",
       "  <tbody>\n",
       "    <tr>\n",
       "      <th>1</th>\n",
       "      <td>0.759256</td>\n",
       "      <td>0.240744</td>\n",
       "    </tr>\n",
       "    <tr>\n",
       "      <th>2</th>\n",
       "      <td>0.791162</td>\n",
       "      <td>0.208838</td>\n",
       "    </tr>\n",
       "  </tbody>\n",
       "</table>\n",
       "</div>"
      ],
      "text/plain": [
       "Y          0         1\n",
       "X2                    \n",
       "1   0.759256  0.240744\n",
       "2   0.791162  0.208838"
      ]
     },
     "execution_count": 11,
     "metadata": {},
     "output_type": "execute_result"
    }
   ],
   "source": [
    "cross_norm1"
   ]
  },
  {
   "cell_type": "markdown",
   "id": "1111298a",
   "metadata": {},
   "source": [
    "The above table shows that out of 100 males, approx 75 males do not make default however 25 do. Similarly, out of 100 females 80 do no default on their credit payments while 20 do make a default."
   ]
  },
  {
   "cell_type": "code",
   "execution_count": 12,
   "id": "882d7110",
   "metadata": {},
   "outputs": [
    {
     "data": {
      "text/plain": [
       "2    0.577599\n",
       "1    0.422401\n",
       "Name: X2, dtype: float64"
      ]
     },
     "execution_count": 12,
     "metadata": {},
     "output_type": "execute_result"
    }
   ],
   "source": [
    "df_train[(df_train[\"Y\"]==1)][\"X2\"].value_counts(normalize=True)"
   ]
  },
  {
   "cell_type": "code",
   "execution_count": 13,
   "id": "6ddfd939",
   "metadata": {},
   "outputs": [
    {
     "data": {
      "text/plain": [
       "2    0.621582\n",
       "1    0.378418\n",
       "Name: X2, dtype: float64"
      ]
     },
     "execution_count": 13,
     "metadata": {},
     "output_type": "execute_result"
    }
   ],
   "source": [
    "df_train[(df_train[\"Y\"]==0)][\"X2\"].value_counts(normalize=True)"
   ]
  },
  {
   "cell_type": "code",
   "execution_count": 14,
   "id": "4e176698",
   "metadata": {},
   "outputs": [
    {
     "data": {
      "text/html": [
       "<div>\n",
       "<style scoped>\n",
       "    .dataframe tbody tr th:only-of-type {\n",
       "        vertical-align: middle;\n",
       "    }\n",
       "\n",
       "    .dataframe tbody tr th {\n",
       "        vertical-align: top;\n",
       "    }\n",
       "\n",
       "    .dataframe thead th {\n",
       "        text-align: right;\n",
       "    }\n",
       "</style>\n",
       "<table border=\"1\" class=\"dataframe\">\n",
       "  <thead>\n",
       "    <tr style=\"text-align: right;\">\n",
       "      <th>Y</th>\n",
       "      <th>0</th>\n",
       "      <th>1</th>\n",
       "    </tr>\n",
       "    <tr>\n",
       "      <th>X3</th>\n",
       "      <th></th>\n",
       "      <th></th>\n",
       "    </tr>\n",
       "  </thead>\n",
       "  <tbody>\n",
       "    <tr>\n",
       "      <th>1</th>\n",
       "      <td>0.807263</td>\n",
       "      <td>0.192737</td>\n",
       "    </tr>\n",
       "    <tr>\n",
       "      <th>2</th>\n",
       "      <td>0.762505</td>\n",
       "      <td>0.237495</td>\n",
       "    </tr>\n",
       "    <tr>\n",
       "      <th>3</th>\n",
       "      <td>0.748321</td>\n",
       "      <td>0.251679</td>\n",
       "    </tr>\n",
       "    <tr>\n",
       "      <th>4</th>\n",
       "      <td>0.940447</td>\n",
       "      <td>0.059553</td>\n",
       "    </tr>\n",
       "  </tbody>\n",
       "</table>\n",
       "</div>"
      ],
      "text/plain": [
       "Y          0         1\n",
       "X3                    \n",
       "1   0.807263  0.192737\n",
       "2   0.762505  0.237495\n",
       "3   0.748321  0.251679\n",
       "4   0.940447  0.059553"
      ]
     },
     "execution_count": 14,
     "metadata": {},
     "output_type": "execute_result"
    }
   ],
   "source": [
    "#Education vs Default\n",
    "X3=df_train[\"X3\"]\n",
    "\n",
    "#clubbing under 4\n",
    "X3.replace({5:4, 6:4, 0:4}, inplace=True)\\\n",
    "\n",
    "cross_norm2 = pd.crosstab(X3, Y, normalize=0)\n",
    "cross_norm2\n",
    "\n"
   ]
  },
  {
   "cell_type": "markdown",
   "id": "ba04cbd5",
   "metadata": {},
   "source": [
    "In the above table, lets consider X3==1, which contains all the graduated individuls. Out of 100 graduated individuals, approx 80 do not default and 20 default. While for an individual with high school level education(X3==3), out of 100, 74 do not default and 24 do. It seems like that educated people are less likely to make a default."
   ]
  },
  {
   "cell_type": "code",
   "execution_count": 15,
   "id": "9035140c",
   "metadata": {},
   "outputs": [
    {
     "data": {
      "text/html": [
       "<div>\n",
       "<style scoped>\n",
       "    .dataframe tbody tr th:only-of-type {\n",
       "        vertical-align: middle;\n",
       "    }\n",
       "\n",
       "    .dataframe tbody tr th {\n",
       "        vertical-align: top;\n",
       "    }\n",
       "\n",
       "    .dataframe thead th {\n",
       "        text-align: right;\n",
       "    }\n",
       "</style>\n",
       "<table border=\"1\" class=\"dataframe\">\n",
       "  <thead>\n",
       "    <tr style=\"text-align: right;\">\n",
       "      <th>Y</th>\n",
       "      <th>0</th>\n",
       "      <th>1</th>\n",
       "    </tr>\n",
       "    <tr>\n",
       "      <th>X4</th>\n",
       "      <th></th>\n",
       "      <th></th>\n",
       "    </tr>\n",
       "  </thead>\n",
       "  <tbody>\n",
       "    <tr>\n",
       "      <th>1</th>\n",
       "      <td>0.765893</td>\n",
       "      <td>0.234107</td>\n",
       "    </tr>\n",
       "    <tr>\n",
       "      <th>2</th>\n",
       "      <td>0.790132</td>\n",
       "      <td>0.209868</td>\n",
       "    </tr>\n",
       "    <tr>\n",
       "      <th>3</th>\n",
       "      <td>0.757396</td>\n",
       "      <td>0.242604</td>\n",
       "    </tr>\n",
       "  </tbody>\n",
       "</table>\n",
       "</div>"
      ],
      "text/plain": [
       "Y          0         1\n",
       "X4                    \n",
       "1   0.765893  0.234107\n",
       "2   0.790132  0.209868\n",
       "3   0.757396  0.242604"
      ]
     },
     "execution_count": 15,
     "metadata": {},
     "output_type": "execute_result"
    }
   ],
   "source": [
    "#Marriage VS Default\n",
    "X4=df_train[\"X4\"].replace({0:3}, inplace=False)\n",
    "\n",
    "cross_norm_X4 = pd.crosstab(X4, Y, normalize=0)\n",
    "cross_norm_X4\n",
    "\n"
   ]
  },
  {
   "cell_type": "code",
   "execution_count": 16,
   "id": "6c0c8ec0",
   "metadata": {},
   "outputs": [
    {
     "data": {
      "text/plain": [
       "[Text(0.5, 0, 'Default'), Text(0, 0.5, 'Age')]"
      ]
     },
     "execution_count": 16,
     "metadata": {},
     "output_type": "execute_result"
    },
    {
     "data": {
      "image/png": "[encoded data removed]",
      "text/plain": [
       "<Figure size 432x288 with 1 Axes>"
      ]
     },
     "metadata": {},
     "output_type": "display_data"
    }
   ],
   "source": [
    "#Age Vs Defualt\n",
    "sns.boxplot(x='Y',y='X5',data=df_train,palette='rainbow').set(xlabel=\"Default\", ylabel=\"Age\")"
   ]
  },
  {
   "cell_type": "code",
   "execution_count": null,
   "id": "11b9ef73",
   "metadata": {},
   "outputs": [],
   "source": []
  },
  {
   "cell_type": "code",
   "execution_count": 17,
   "id": "0dbf1606",
   "metadata": {},
   "outputs": [
    {
     "data": {
      "text/plain": [
       "count    27000.000000\n",
       "mean        35.393148\n",
       "std          9.231699\n",
       "min         21.000000\n",
       "25%         28.000000\n",
       "50%         34.000000\n",
       "75%         41.000000\n",
       "max         79.000000\n",
       "Name: X5, dtype: float64"
      ]
     },
     "execution_count": 17,
     "metadata": {},
     "output_type": "execute_result"
    }
   ],
   "source": [
    "df_train[\"X5\"].describe()"
   ]
  },
  {
   "cell_type": "code",
   "execution_count": 18,
   "id": "be81a364",
   "metadata": {},
   "outputs": [
    {
     "data": {
      "text/plain": [
       "<AxesSubplot:xlabel='X3', ylabel='X1'>"
      ]
     },
     "execution_count": 18,
     "metadata": {},
     "output_type": "execute_result"
    },
    {
     "data": {
      "image/png": "[encoded data removed]",
      "text/plain": [
       "<Figure size 432x288 with 1 Axes>"
      ]
     },
     "metadata": {},
     "output_type": "display_data"
    }
   ],
   "source": [
    "#Credit Limit vs Education\n",
    "sns.boxplot(x='X3',y='X1',data=df_train,palette='rainbow')\n",
    "#ax.set(ylim=(0, 1500000)\n",
    "\n",
    "\n",
    "\n"
   ]
  },
  {
   "cell_type": "code",
   "execution_count": 19,
   "id": "aff08d02",
   "metadata": {},
   "outputs": [
    {
     "data": {
      "image/png": "[encoded data removed]",
      "text/plain": [
       "<Figure size 432x288 with 1 Axes>"
      ]
     },
     "metadata": {},
     "output_type": "display_data"
    }
   ],
   "source": [
    "#Credit Limit vs Gender\n",
    "sns.boxplot(x='X2',y='X1',data=df_train,palette='rainbow');\n",
    "#ax.set(ylim=(0, 1500000)\n"
   ]
  },
  {
   "cell_type": "code",
   "execution_count": 20,
   "id": "b54eab30",
   "metadata": {},
   "outputs": [
    {
     "data": {
      "text/plain": [
       "count      27000.000000\n",
       "mean      167278.284444\n",
       "std       129775.805524\n",
       "min        10000.000000\n",
       "25%        50000.000000\n",
       "50%       140000.000000\n",
       "75%       240000.000000\n",
       "max      1000000.000000\n",
       "Name: X1, dtype: float64"
      ]
     },
     "execution_count": 20,
     "metadata": {},
     "output_type": "execute_result"
    }
   ],
   "source": [
    "df_train[\"X1\"].describe()"
   ]
  },
  {
   "cell_type": "code",
   "execution_count": 21,
   "id": "bbd6400f",
   "metadata": {},
   "outputs": [
    {
     "data": {
      "text/html": [
       "<div>\n",
       "<style scoped>\n",
       "    .dataframe tbody tr th:only-of-type {\n",
       "        vertical-align: middle;\n",
       "    }\n",
       "\n",
       "    .dataframe tbody tr th {\n",
       "        vertical-align: top;\n",
       "    }\n",
       "\n",
       "    .dataframe thead th {\n",
       "        text-align: right;\n",
       "    }\n",
       "</style>\n",
       "<table border=\"1\" class=\"dataframe\">\n",
       "  <thead>\n",
       "    <tr style=\"text-align: right;\">\n",
       "      <th>X3</th>\n",
       "      <th>1</th>\n",
       "      <th>2</th>\n",
       "      <th>3</th>\n",
       "      <th>4</th>\n",
       "    </tr>\n",
       "    <tr>\n",
       "      <th>X2</th>\n",
       "      <th></th>\n",
       "      <th></th>\n",
       "      <th></th>\n",
       "      <th></th>\n",
       "    </tr>\n",
       "  </thead>\n",
       "  <tbody>\n",
       "    <tr>\n",
       "      <th>1</th>\n",
       "      <td>0.371374</td>\n",
       "      <td>0.452385</td>\n",
       "      <td>0.163168</td>\n",
       "      <td>0.013073</td>\n",
       "    </tr>\n",
       "    <tr>\n",
       "      <th>2</th>\n",
       "      <td>0.344492</td>\n",
       "      <td>0.481477</td>\n",
       "      <td>0.157930</td>\n",
       "      <td>0.016102</td>\n",
       "    </tr>\n",
       "  </tbody>\n",
       "</table>\n",
       "</div>"
      ],
      "text/plain": [
       "X3         1         2         3         4\n",
       "X2                                        \n",
       "1   0.371374  0.452385  0.163168  0.013073\n",
       "2   0.344492  0.481477  0.157930  0.016102"
      ]
     },
     "execution_count": 21,
     "metadata": {},
     "output_type": "execute_result"
    }
   ],
   "source": [
    "#Gender vs Education\n",
    "cross_norm_5 = pd.crosstab(X2, X3, normalize=0)\n",
    "cross_norm_5"
   ]
  },
  {
   "cell_type": "code",
   "execution_count": 22,
   "id": "87e7c44d",
   "metadata": {},
   "outputs": [
    {
     "data": {
      "text/plain": [
       "22    7954\n",
       "21    5691\n",
       "12    4741\n",
       "11    3892\n",
       "23    2609\n",
       "13    1710\n",
       "24     266\n",
       "14     137\n",
       "Name: X2_X3, dtype: int64"
      ]
     },
     "execution_count": 22,
     "metadata": {},
     "output_type": "execute_result"
    }
   ],
   "source": [
    "df_train[\"X2_X3\"]=df_train[\"X2\"].astype(str) + df_train[\"X3\"].astype(str)\n",
    "df_train[\"X2_X3\"].value_counts()"
   ]
  },
  {
   "cell_type": "code",
   "execution_count": 23,
   "id": "0b802256",
   "metadata": {},
   "outputs": [
    {
     "data": {
      "text/html": [
       "<div>\n",
       "<style scoped>\n",
       "    .dataframe tbody tr th:only-of-type {\n",
       "        vertical-align: middle;\n",
       "    }\n",
       "\n",
       "    .dataframe tbody tr th {\n",
       "        vertical-align: top;\n",
       "    }\n",
       "\n",
       "    .dataframe thead th {\n",
       "        text-align: right;\n",
       "    }\n",
       "</style>\n",
       "<table border=\"1\" class=\"dataframe\">\n",
       "  <thead>\n",
       "    <tr style=\"text-align: right;\">\n",
       "      <th>Y</th>\n",
       "      <th>0</th>\n",
       "      <th>1</th>\n",
       "    </tr>\n",
       "    <tr>\n",
       "      <th>X2_X3</th>\n",
       "      <th></th>\n",
       "      <th></th>\n",
       "    </tr>\n",
       "  </thead>\n",
       "  <tbody>\n",
       "    <tr>\n",
       "      <th>11</th>\n",
       "      <td>0.792909</td>\n",
       "      <td>0.207091</td>\n",
       "    </tr>\n",
       "    <tr>\n",
       "      <th>12</th>\n",
       "      <td>0.737397</td>\n",
       "      <td>0.262603</td>\n",
       "    </tr>\n",
       "    <tr>\n",
       "      <th>13</th>\n",
       "      <td>0.728070</td>\n",
       "      <td>0.271930</td>\n",
       "    </tr>\n",
       "    <tr>\n",
       "      <th>14</th>\n",
       "      <td>0.948905</td>\n",
       "      <td>0.051095</td>\n",
       "    </tr>\n",
       "    <tr>\n",
       "      <th>21</th>\n",
       "      <td>0.817080</td>\n",
       "      <td>0.182920</td>\n",
       "    </tr>\n",
       "    <tr>\n",
       "      <th>22</th>\n",
       "      <td>0.777470</td>\n",
       "      <td>0.222530</td>\n",
       "    </tr>\n",
       "    <tr>\n",
       "      <th>23</th>\n",
       "      <td>0.761594</td>\n",
       "      <td>0.238406</td>\n",
       "    </tr>\n",
       "    <tr>\n",
       "      <th>24</th>\n",
       "      <td>0.936090</td>\n",
       "      <td>0.063910</td>\n",
       "    </tr>\n",
       "  </tbody>\n",
       "</table>\n",
       "</div>"
      ],
      "text/plain": [
       "Y             0         1\n",
       "X2_X3                    \n",
       "11     0.792909  0.207091\n",
       "12     0.737397  0.262603\n",
       "13     0.728070  0.271930\n",
       "14     0.948905  0.051095\n",
       "21     0.817080  0.182920\n",
       "22     0.777470  0.222530\n",
       "23     0.761594  0.238406\n",
       "24     0.936090  0.063910"
      ]
     },
     "execution_count": 23,
     "metadata": {},
     "output_type": "execute_result"
    }
   ],
   "source": [
    "#Default vs Gender*Education\n",
    "X2_X3=df_train[\"X2_X3\"]\n",
    "cross_norm_X2_X3 = pd.crosstab(X2_X3, Y, normalize=0)\n",
    "cross_norm_X2_X3"
   ]
  },
  {
   "cell_type": "markdown",
   "id": "adf1e699",
   "metadata": {},
   "source": [
    "For example: 11 means educated male: out of 100 males, 20 commit fraud,\n",
    "             13 means high school educated male: out of 100 males, 27 committ fraud"
   ]
  },
  {
   "cell_type": "code",
   "execution_count": 24,
   "id": "6c917ed0",
   "metadata": {},
   "outputs": [
    {
     "data": {
      "image/png": "[encoded data removed]",
      "text/plain": [
       "<Figure size 432x288 with 1 Axes>"
      ]
     },
     "metadata": {},
     "output_type": "display_data"
    }
   ],
   "source": [
    "#Credit Limit vs Default\n",
    "sns.boxplot(x='Y',y='X1',data=df_train,palette='rainbow');\n",
    "#ax.set(ylim=(0, 1500000)"
   ]
  },
  {
   "cell_type": "code",
   "execution_count": 25,
   "id": "fd7b8601",
   "metadata": {},
   "outputs": [
    {
     "data": {
      "text/plain": [
       " 0    0.491037\n",
       "-1    0.191074\n",
       " 1    0.122963\n",
       "-2    0.090037\n",
       " 2    0.089704\n",
       " 3    0.010407\n",
       " 4    0.002667\n",
       " 5    0.000778\n",
       " 8    0.000704\n",
       " 6    0.000333\n",
       " 7    0.000296\n",
       "Name: X6, dtype: float64"
      ]
     },
     "execution_count": 25,
     "metadata": {},
     "output_type": "execute_result"
    }
   ],
   "source": [
    "df_train[\"X6\"].value_counts(normalize=True)"
   ]
  },
  {
   "cell_type": "code",
   "execution_count": 26,
   "id": "254bb7b6",
   "metadata": {},
   "outputs": [
    {
     "data": {
      "text/plain": [
       " 0    0.524481\n",
       "-1    0.202704\n",
       " 2    0.131333\n",
       "-2    0.124630\n",
       " 3    0.010852\n",
       " 4    0.003074\n",
       " 1    0.000963\n",
       " 5    0.000815\n",
       " 7    0.000741\n",
       " 6    0.000370\n",
       " 8    0.000037\n",
       "Name: X7, dtype: float64"
      ]
     },
     "execution_count": 26,
     "metadata": {},
     "output_type": "execute_result"
    }
   ],
   "source": [
    "df_train[\"X7\"].value_counts(normalize=True)"
   ]
  },
  {
   "cell_type": "code",
   "execution_count": 27,
   "id": "953d07ce",
   "metadata": {},
   "outputs": [
    {
     "data": {
      "text/plain": [
       " 0    0.525815\n",
       "-1    0.198815\n",
       "-2    0.134852\n",
       " 2    0.127593\n",
       " 3    0.007630\n",
       " 4    0.002519\n",
       " 7    0.001000\n",
       " 6    0.000852\n",
       " 5    0.000704\n",
       " 1    0.000148\n",
       " 8    0.000074\n",
       "Name: X8, dtype: float64"
      ]
     },
     "execution_count": 27,
     "metadata": {},
     "output_type": "execute_result"
    }
   ],
   "source": [
    "df_train[\"X8\"].value_counts(normalize=True)"
   ]
  },
  {
   "cell_type": "code",
   "execution_count": 28,
   "id": "b61e3a21",
   "metadata": {},
   "outputs": [
    {
     "data": {
      "text/plain": [
       " 0    0.550889\n",
       "-1    0.190074\n",
       "-2    0.143074\n",
       " 2    0.104148\n",
       " 3    0.006148\n",
       " 4    0.002259\n",
       " 7    0.001778\n",
       " 5    0.001296\n",
       " 6    0.000185\n",
       " 1    0.000074\n",
       " 8    0.000074\n",
       "Name: X9, dtype: float64"
      ]
     },
     "execution_count": 28,
     "metadata": {},
     "output_type": "execute_result"
    }
   ],
   "source": [
    "df_train[\"X9\"].value_counts(normalize=True)"
   ]
  },
  {
   "cell_type": "code",
   "execution_count": 29,
   "id": "ab778792",
   "metadata": {},
   "outputs": [
    {
     "data": {
      "text/plain": [
       " 0    0.564519\n",
       "-1    0.185222\n",
       "-2    0.149926\n",
       " 2    0.088852\n",
       " 3    0.006074\n",
       " 4    0.002889\n",
       " 7    0.001815\n",
       " 5    0.000556\n",
       " 6    0.000111\n",
       " 8    0.000037\n",
       "Name: X10, dtype: float64"
      ]
     },
     "execution_count": 29,
     "metadata": {},
     "output_type": "execute_result"
    }
   ],
   "source": [
    "df_train[\"X10\"].value_counts(normalize=True)"
   ]
  },
  {
   "cell_type": "code",
   "execution_count": 30,
   "id": "7fc18326",
   "metadata": {},
   "outputs": [
    {
     "data": {
      "text/plain": [
       " 0    0.541296\n",
       "-1    0.192889\n",
       "-2    0.161296\n",
       " 2    0.094037\n",
       " 3    0.006407\n",
       " 4    0.001593\n",
       " 7    0.001407\n",
       " 6    0.000630\n",
       " 5    0.000370\n",
       " 8    0.000074\n",
       "Name: X11, dtype: float64"
      ]
     },
     "execution_count": 30,
     "metadata": {},
     "output_type": "execute_result"
    }
   ],
   "source": [
    "df_train[\"X11\"].value_counts(normalize=True)"
   ]
  },
  {
   "cell_type": "code",
   "execution_count": 31,
   "id": "b9d47c77",
   "metadata": {},
   "outputs": [
    {
     "data": {
      "image/png": "[encoded data removed]",
      "text/plain": [
       "<Figure size 432x288 with 1 Axes>"
      ]
     },
     "metadata": {},
     "output_type": "display_data"
    }
   ],
   "source": [
    "#Credit Limit vs Default\n",
    "sns.boxplot(x='Y',y='X12',data=df_train,palette='rainbow');\n",
    "#ax.set(ylim=(0, 1500000)"
   ]
  },
  {
   "cell_type": "code",
   "execution_count": 32,
   "id": "1d4f8720",
   "metadata": {},
   "outputs": [
    {
     "data": {
      "image/png": "[encoded data removed]",
      "text/plain": [
       "<Figure size 432x288 with 1 Axes>"
      ]
     },
     "metadata": {},
     "output_type": "display_data"
    }
   ],
   "source": [
    "#Credit Limit vs Default\n",
    "sns.boxplot(x='Y',y=\"X17\",data=df_train,palette='rainbow');\n",
    "#ax.set(ylim=(0, 1500000)"
   ]
  },
  {
   "cell_type": "markdown",
   "id": "8068f24c",
   "metadata": {},
   "source": [
    "Checking the impact of past bill apyments on the defaults."
   ]
  },
  {
   "cell_type": "markdown",
   "id": "3ca620a8",
   "metadata": {},
   "source": [
    "i) X17: Amount Paid in October 2005"
   ]
  },
  {
   "cell_type": "code",
   "execution_count": 33,
   "id": "42e8855d",
   "metadata": {},
   "outputs": [
    {
     "data": {
      "text/plain": [
       "count      5973.000000\n",
       "mean      38090.466600\n",
       "std       58896.145141\n",
       "min     -339603.000000\n",
       "25%        1150.000000\n",
       "50%       18082.000000\n",
       "75%       47272.000000\n",
       "max      514975.000000\n",
       "Name: X17, dtype: float64"
      ]
     },
     "execution_count": 33,
     "metadata": {},
     "output_type": "execute_result"
    }
   ],
   "source": [
    "df_train[df_train[\"Y\"]==1][\"X17\"].describe()"
   ]
  },
  {
   "cell_type": "code",
   "execution_count": 34,
   "id": "307a00a7",
   "metadata": {},
   "outputs": [
    {
     "data": {
      "text/plain": [
       "count     21027.000000\n",
       "mean      39095.235649\n",
       "std       59466.338485\n",
       "min     -209051.000000\n",
       "25%        1270.000000\n",
       "50%       16776.000000\n",
       "75%       49873.000000\n",
       "max      961664.000000\n",
       "Name: X17, dtype: float64"
      ]
     },
     "execution_count": 34,
     "metadata": {},
     "output_type": "execute_result"
    }
   ],
   "source": [
    "df_train[df_train[\"Y\"]==0][\"X17\"].describe()"
   ]
  },
  {
   "cell_type": "markdown",
   "id": "e6a4b1ad",
   "metadata": {},
   "source": [
    "ii) X23: Amount Paid in April 2005"
   ]
  },
  {
   "cell_type": "code",
   "execution_count": 35,
   "id": "e5ccff88",
   "metadata": {},
   "outputs": [
    {
     "data": {
      "text/plain": [
       "count      5973.000000\n",
       "mean       3344.844802\n",
       "std       12858.029385\n",
       "min           0.000000\n",
       "25%           0.000000\n",
       "50%        1000.000000\n",
       "75%        2927.000000\n",
       "max      345293.000000\n",
       "Name: X23, dtype: float64"
      ]
     },
     "execution_count": 35,
     "metadata": {},
     "output_type": "execute_result"
    }
   ],
   "source": [
    "df_train[df_train[\"Y\"]==1][\"X23\"].describe()"
   ]
  },
  {
   "cell_type": "code",
   "execution_count": 36,
   "id": "609b6824",
   "metadata": {
    "scrolled": true
   },
   "outputs": [
    {
     "data": {
      "text/plain": [
       "count     21027.000000\n",
       "mean       5693.565416\n",
       "std       18568.684967\n",
       "min           0.000000\n",
       "25%         299.500000\n",
       "50%        1700.000000\n",
       "75%        4524.500000\n",
       "max      528666.000000\n",
       "Name: X23, dtype: float64"
      ]
     },
     "execution_count": 36,
     "metadata": {},
     "output_type": "execute_result"
    }
   ],
   "source": [
    "df_train[df_train[\"Y\"]==0][\"X23\"].describe()"
   ]
  },
  {
   "cell_type": "markdown",
   "id": "3ece2826",
   "metadata": {},
   "source": [
    "iii) Amount Paid in September 2005"
   ]
  },
  {
   "cell_type": "code",
   "execution_count": 37,
   "id": "fb0f9348",
   "metadata": {},
   "outputs": [
    {
     "data": {
      "text/plain": [
       "count      5973.000000\n",
       "mean       3336.113678\n",
       "std        9021.948598\n",
       "min           0.000000\n",
       "25%           0.000000\n",
       "50%        1647.000000\n",
       "75%        3458.000000\n",
       "max      300000.000000\n",
       "Name: X18, dtype: float64"
      ]
     },
     "execution_count": 37,
     "metadata": {},
     "output_type": "execute_result"
    }
   ],
   "source": [
    "df_train[df_train[\"Y\"]==1][\"X18\"].describe()\n"
   ]
  },
  {
   "cell_type": "code",
   "execution_count": 38,
   "id": "376170fc",
   "metadata": {},
   "outputs": [
    {
     "data": {
      "text/plain": [
       "count     21027.000000\n",
       "mean       6207.594331\n",
       "std       16434.696042\n",
       "min           0.000000\n",
       "25%        1160.500000\n",
       "50%        2451.000000\n",
       "75%        5600.000000\n",
       "max      505000.000000\n",
       "Name: X18, dtype: float64"
      ]
     },
     "execution_count": 38,
     "metadata": {},
     "output_type": "execute_result"
    }
   ],
   "source": [
    "df_train[df_train[\"Y\"]==0][\"X18\"].describe()"
   ]
  },
  {
   "cell_type": "markdown",
   "id": "fefe932a",
   "metadata": {},
   "source": [
    "### TASK 2: MODEL BUILDING AND EVALUATION"
   ]
  },
  {
   "cell_type": "markdown",
   "id": "10374afa",
   "metadata": {},
   "source": [
    "Task 2.1: \n",
    "Build a simple logistic regression model with sklearn implementation. Find the model performance metrics such as Accuracy, ROC-AUC score, Confusion matrix (Precision, Recall and F1-score)."
   ]
  },
  {
   "cell_type": "code",
   "execution_count": 39,
   "id": "b32d0ebd",
   "metadata": {},
   "outputs": [],
   "source": [
    "df_train\n",
    "df_train[\"X2_X3\"] = df_train[\"X2_X3\"].astype(int)"
   ]
  },
  {
   "cell_type": "code",
   "execution_count": 40,
   "id": "53ab665f",
   "metadata": {},
   "outputs": [
    {
     "name": "stdout",
     "output_type": "stream",
     "text": [
      "<class 'pandas.core.frame.DataFrame'>\n",
      "Int64Index: 27000 entries, 1 to 27000\n",
      "Data columns (total 25 columns):\n",
      " #   Column  Non-Null Count  Dtype\n",
      "---  ------  --------------  -----\n",
      " 0   X1      27000 non-null  int64\n",
      " 1   X2      27000 non-null  int64\n",
      " 2   X3      27000 non-null  int64\n",
      " 3   X4      27000 non-null  int64\n",
      " 4   X5      27000 non-null  int64\n",
      " 5   X6      27000 non-null  int64\n",
      " 6   X7      27000 non-null  int64\n",
      " 7   X8      27000 non-null  int64\n",
      " 8   X9      27000 non-null  int64\n",
      " 9   X10     27000 non-null  int64\n",
      " 10  X11     27000 non-null  int64\n",
      " 11  X12     27000 non-null  int64\n",
      " 12  X13     27000 non-null  int64\n",
      " 13  X14     27000 non-null  int64\n",
      " 14  X15     27000 non-null  int64\n",
      " 15  X16     27000 non-null  int64\n",
      " 16  X17     27000 non-null  int64\n",
      " 17  X18     27000 non-null  int64\n",
      " 18  X19     27000 non-null  int64\n",
      " 19  X20     27000 non-null  int64\n",
      " 20  X21     27000 non-null  int64\n",
      " 21  X22     27000 non-null  int64\n",
      " 22  X23     27000 non-null  int64\n",
      " 23  Y       27000 non-null  int64\n",
      " 24  X2_X3   27000 non-null  int32\n",
      "dtypes: int32(1), int64(24)\n",
      "memory usage: 6.3 MB\n"
     ]
    }
   ],
   "source": [
    "df_train.info()"
   ]
  },
  {
   "cell_type": "code",
   "execution_count": 284,
   "id": "92e84eb5",
   "metadata": {},
   "outputs": [],
   "source": [
    "#Selecting Features and Targets\n",
    "Y=df_train[\"Y\"]\n",
    "df_train.columns\n",
    "X=df_train[[\"X1\", \"X2\", \"X3\",'X4', 'X5', 'X6', 'X7', 'X8', 'X9', 'X10', 'X11',\n",
    "       'X12', 'X13', 'X14', 'X15', 'X16', 'X17', 'X18', 'X19', 'X20', 'X21',\n",
    "       'X22', 'X23']]\n"
   ]
  },
  {
   "cell_type": "code",
   "execution_count": null,
   "id": "7cc0a006",
   "metadata": {},
   "outputs": [],
   "source": []
  },
  {
   "cell_type": "markdown",
   "id": "aab7edec",
   "metadata": {},
   "source": [
    "Splitting DATA\n"
   ]
  },
  {
   "cell_type": "code",
   "execution_count": 285,
   "id": "2e5c18e5",
   "metadata": {},
   "outputs": [
    {
     "name": "stdout",
     "output_type": "stream",
     "text": [
      "(20250, 23)\n",
      "(20250,)\n",
      "(6750, 23)\n",
      "(6750,)\n"
     ]
    }
   ],
   "source": [
    "X_train,X_test,Y_train,Y_test=train_test_split(X,Y,test_size=0.25,random_state=42)\n",
    "\n",
    "print(X_train.shape)\n",
    "print(Y_train.shape)\n",
    "print(X_test.shape)\n",
    "print(Y_test.shape)"
   ]
  },
  {
   "cell_type": "markdown",
   "id": "f4b9f773",
   "metadata": {},
   "source": [
    "Data has been splitted into 75:25."
   ]
  },
  {
   "cell_type": "code",
   "execution_count": 286,
   "id": "59df70cf",
   "metadata": {},
   "outputs": [],
   "source": [
    "logreg_base = LogisticRegression(solver=\"newton-cg\") #instantiate"
   ]
  },
  {
   "cell_type": "code",
   "execution_count": 287,
   "id": "38b1f229",
   "metadata": {},
   "outputs": [
    {
     "name": "stderr",
     "output_type": "stream",
     "text": [
      "C:\\Users\\hasla\\anaconda3\\lib\\site-packages\\sklearn\\utils\\optimize.py:202: ConvergenceWarning: newton-cg failed to converge. Increase the number of iterations.\n",
      "  warnings.warn(\"newton-cg failed to converge. Increase the \"\n"
     ]
    },
    {
     "data": {
      "text/plain": [
       "LogisticRegression(solver='newton-cg')"
      ]
     },
     "execution_count": 287,
     "metadata": {},
     "output_type": "execute_result"
    }
   ],
   "source": [
    "#fit the model with the data\n",
    "logreg_base.fit(X_train, Y_train)"
   ]
  },
  {
   "cell_type": "markdown",
   "id": "8f2a162f",
   "metadata": {},
   "source": [
    "TRAINING DATA EVALUATION"
   ]
  },
  {
   "cell_type": "code",
   "execution_count": 288,
   "id": "8a112f3b",
   "metadata": {
    "scrolled": true
   },
   "outputs": [
    {
     "name": "stdout",
     "output_type": "stream",
     "text": [
      "(20250,)\n",
      "0.6999316473000684\n",
      "0.22903153656900022\n",
      "F1-score is 0.34512976070104484\n"
     ]
    }
   ],
   "source": [
    "#predictions\n",
    "Y_pred=logreg_base.predict(X_train)\n",
    "print(Y_pred.shape)\n",
    "import numpy as np\n",
    "from sklearn import metrics\n",
    "np.unique(Y_pred, return_counts=True)\n",
    "\n",
    "tn, fp, fn, tp = metrics.confusion_matrix(Y_train, Y_pred).ravel()\n",
    "\n",
    "precision = tp/(tp+fp)\n",
    "print(precision)\n",
    "\n",
    "recall = tp/(tp+fn)\n",
    "print(recall)\n",
    "\n",
    "f1 = 2*precision*recall /(precision+recall)\n",
    "print(f\"F1-score is {f1}\")"
   ]
  },
  {
   "cell_type": "markdown",
   "id": "8c636c6e",
   "metadata": {},
   "source": [
    "TEST DATA EVALUATION"
   ]
  },
  {
   "cell_type": "code",
   "execution_count": 289,
   "id": "f7c98413",
   "metadata": {},
   "outputs": [
    {
     "name": "stdout",
     "output_type": "stream",
     "text": [
      "(6750,)\n",
      "0.7148760330578512\n",
      "0.2303595206391478\n",
      "F1-score is 0.34843907351460224\n"
     ]
    }
   ],
   "source": [
    "#predictions\n",
    "Y_pred=logreg_base.predict(X_test)\n",
    "print(Y_pred.shape)\n",
    "import numpy as np\n",
    "from sklearn import metrics\n",
    "np.unique(Y_pred, return_counts=True)\n",
    "\n",
    "tn, fp, fn, tp = metrics.confusion_matrix(Y_test, Y_pred).ravel()\n",
    "\n",
    "precision = tp/(tp+fp)\n",
    "print(precision)\n",
    "\n",
    "recall = tp/(tp+fn)\n",
    "print(recall)\n",
    "\n",
    "f1 = 2*precision*recall /(precision+recall)\n",
    "print(f\"F1-score is {f1}\")"
   ]
  },
  {
   "cell_type": "markdown",
   "id": "9f64feb7",
   "metadata": {},
   "source": [
    "We have evaluated the baseline results. However, we can re-scale the training data and see if there is any significant improvement.\n"
   ]
  },
  {
   "cell_type": "code",
   "execution_count": 46,
   "id": "47264b29",
   "metadata": {},
   "outputs": [],
   "source": [
    "from sklearn.preprocessing import MinMaxScaler\n"
   ]
  },
  {
   "cell_type": "code",
   "execution_count": 47,
   "id": "133554e3",
   "metadata": {},
   "outputs": [],
   "source": [
    "scaler = MinMaxScaler()"
   ]
  },
  {
   "cell_type": "code",
   "execution_count": 48,
   "id": "3bccd812",
   "metadata": {},
   "outputs": [
    {
     "name": "stdout",
     "output_type": "stream",
     "text": [
      "MinMaxScaler()\n"
     ]
    }
   ],
   "source": [
    "print(scaler.fit(X_train))"
   ]
  },
  {
   "cell_type": "code",
   "execution_count": 49,
   "id": "9fb47227",
   "metadata": {},
   "outputs": [
    {
     "name": "stdout",
     "output_type": "stream",
     "text": [
      "[1.000000e+06 2.000000e+00 4.000000e+00 3.000000e+00 7.500000e+01\n",
      " 8.000000e+00 7.000000e+00 8.000000e+00 8.000000e+00 8.000000e+00\n",
      " 8.000000e+00 9.645110e+05 9.839310e+05 1.664089e+06 8.915860e+05\n",
      " 9.271710e+05 9.616640e+05 5.050000e+05 1.684259e+06 8.960400e+05\n",
      " 5.288970e+05 4.179900e+05 5.286660e+05 2.400000e+01]\n"
     ]
    }
   ],
   "source": [
    "print(scaler.data_max_)"
   ]
  },
  {
   "cell_type": "code",
   "execution_count": 50,
   "id": "9c99a630",
   "metadata": {},
   "outputs": [
    {
     "name": "stdout",
     "output_type": "stream",
     "text": [
      "[ 1.00000e+04  1.00000e+00  1.00000e+00  0.00000e+00  2.10000e+01\n",
      " -2.00000e+00 -2.00000e+00 -2.00000e+00 -2.00000e+00 -2.00000e+00\n",
      " -2.00000e+00 -1.65580e+05 -6.97770e+04 -1.57264e+05 -1.70000e+05\n",
      " -8.13340e+04 -2.09051e+05  0.00000e+00  0.00000e+00  0.00000e+00\n",
      "  0.00000e+00  0.00000e+00  0.00000e+00  1.10000e+01]\n"
     ]
    }
   ],
   "source": [
    "print(scaler.data_min_)"
   ]
  },
  {
   "cell_type": "code",
   "execution_count": 51,
   "id": "3cd5a94a",
   "metadata": {},
   "outputs": [],
   "source": [
    "X_train_scaled = scaler.transform(X_train)"
   ]
  },
  {
   "cell_type": "code",
   "execution_count": 52,
   "id": "f1df271d",
   "metadata": {},
   "outputs": [],
   "source": [
    "X_test_scaled=scaler.transform(X_test)"
   ]
  },
  {
   "cell_type": "code",
   "execution_count": 103,
   "id": "c3cc18f9",
   "metadata": {},
   "outputs": [],
   "source": [
    "logreg_scaled = LogisticRegression(solver=\"saga\", max_iter=300) #instantiate"
   ]
  },
  {
   "cell_type": "code",
   "execution_count": 104,
   "id": "8698767e",
   "metadata": {},
   "outputs": [
    {
     "data": {
      "text/plain": [
       "LogisticRegression(max_iter=300, solver='saga')"
      ]
     },
     "execution_count": 104,
     "metadata": {},
     "output_type": "execute_result"
    }
   ],
   "source": [
    "#fit the model with the data\n",
    "logreg_scaled.fit(X_train_scaled, Y_train)"
   ]
  },
  {
   "cell_type": "markdown",
   "id": "7f9061e4",
   "metadata": {},
   "source": [
    "TRAINING DATA EVALUATION"
   ]
  },
  {
   "cell_type": "code",
   "execution_count": 105,
   "id": "f0f3b439",
   "metadata": {},
   "outputs": [],
   "source": [
    "from sklearn import metrics"
   ]
  },
  {
   "cell_type": "code",
   "execution_count": 171,
   "id": "753b119f",
   "metadata": {
    "scrolled": true
   },
   "outputs": [
    {
     "name": "stdout",
     "output_type": "stream",
     "text": [
      "(20250,)\n",
      "(array([0, 1], dtype=int64), array([18890,  1360], dtype=int64))\n",
      "TP is 967\n",
      "FP is 393\n",
      "FN is 3504\n",
      "TN is 15386\n",
      "Precision is 0.7110294117647059\n",
      "Recall is 0.21628271080295236\n",
      "F1-score is 0.3316755273537986\n",
      "ROC AUC score is 0.7176287535325816\n",
      "Accuracy score is 0.8075555555555556\n"
     ]
    }
   ],
   "source": [
    "#predictions\n",
    "Y_pred_train=logreg_scaled.predict(X_train_scaled)\n",
    "print(Y_pred_train.shape)\n",
    "print(np.unique(Y_pred_train, return_counts=True))\n",
    "Y_pred_trainprob = logreg_scaled.predict_proba(X_train_scaled)\n",
    "\n",
    "tn, fp, fn, tp =metrics.confusion_matrix(Y_train, Y_pred_train).ravel()\n",
    "print(f\"TP is {tp}\")\n",
    "print(f\"FP is {fp}\")\n",
    "print(f\"FN is {fn}\")\n",
    "print(f\"TN is {tn}\")\n",
    "\n",
    "precision = tp/(tp+fp)\n",
    "print(f\"Precision is {precision}\")\n",
    "recall = tp/(tp+fn)\n",
    "print(f\"Recall is {recall}\")\n",
    "f1 = 2*precision*recall /(precision+recall)\n",
    "print(f\"F1-score is {f1}\")\n",
    "\n",
    "roc_auc = metrics.roc_auc_score(Y_train, Y_pred_trainprob[:,1])\n",
    "print(f\"ROC AUC score is {roc_auc}\")\n",
    "\n",
    "accuracy_score = metrics.accuracy_score(Y_train, Y_pred_train)\n",
    "print(f\"Accuracy score is {accuracy_score}\")\n",
    "\n"
   ]
  },
  {
   "cell_type": "markdown",
   "id": "dd512383",
   "metadata": {},
   "source": [
    "Test Data Evaluation"
   ]
  },
  {
   "cell_type": "code",
   "execution_count": 107,
   "id": "3a36a3c0",
   "metadata": {},
   "outputs": [
    {
     "name": "stdout",
     "output_type": "stream",
     "text": [
      "(6750,)\n",
      "TP is 324\n",
      "FP is 136\n",
      "FN is 1178\n",
      "TN is 5112\n",
      "Precision is 0.7043478260869566\n",
      "Recall is 0.21571238348868177\n",
      "F1-score is 0.33027522935779824\n",
      "ROC AUC score is 0.7262972286950732\n",
      "Accuracy score is 0.8053333333333333\n"
     ]
    }
   ],
   "source": [
    "#predictions\n",
    "Y_pred=logreg_scaled.predict(X_test_scaled)\n",
    "print(Y_pred.shape)\n",
    "Y_pred_prob = logreg_scaled.predict_proba(X_test_scaled)\n",
    "np.unique(Y_pred, return_counts=True)\n",
    "\n",
    "tn, fp, fn, tp = metrics.confusion_matrix(Y_test, Y_pred).ravel()\n",
    "\n",
    "print(f\"TP is {tp}\")\n",
    "print(f\"FP is {fp}\")\n",
    "print(f\"FN is {fn}\")\n",
    "print(f\"TN is {tn}\")\n",
    "\n",
    "precision = tp/(tp+fp)\n",
    "print(f\"Precision is {precision}\")\n",
    "recall = tp/(tp+fn)\n",
    "print(f\"Recall is {recall}\")\n",
    "f1 = 2*precision*recall /(precision+recall)\n",
    "print(f\"F1-score is {f1}\")\n",
    "\n",
    "roc_auc = metrics.roc_auc_score(Y_test, Y_pred_prob[:,1])\n",
    "print(f\"ROC AUC score is {roc_auc}\")\n",
    "\n",
    "accuracy_score = metrics.accuracy_score(Y_test, Y_pred)\n",
    "print(f\"Accuracy score is {accuracy_score}\")\n"
   ]
  },
  {
   "cell_type": "code",
   "execution_count": 60,
   "id": "97ad7e9f",
   "metadata": {},
   "outputs": [
    {
     "data": {
      "text/plain": [
       "array([[-1.08493564e+00, -2.81562500e-04, -3.54728885e-01,\n",
       "        -4.32702492e-01,  3.65275729e-01,  5.47302465e+00,\n",
       "         9.89351206e-01,  9.28152469e-01, -4.65887758e-03,\n",
       "         1.59134289e-01,  1.82100668e-01, -2.27131385e+00,\n",
       "        -1.47833722e-01, -5.43360263e-01, -1.18096100e-01,\n",
       "         2.73611397e-01,  5.63624328e-01, -2.65442372e+00,\n",
       "        -1.56550535e+00, -1.34101015e+00, -1.22442076e+00,\n",
       "        -1.13756846e+00, -1.66138180e+00, -8.20770986e-02]])"
      ]
     },
     "execution_count": 60,
     "metadata": {},
     "output_type": "execute_result"
    }
   ],
   "source": [
    "logreg_scaled.coef_"
   ]
  },
  {
   "cell_type": "markdown",
   "id": "90afde8c",
   "metadata": {},
   "source": [
    "Now we will use some techniques to improve the performance of the model. \n"
   ]
  },
  {
   "cell_type": "code",
   "execution_count": 77,
   "id": "ea5208a2",
   "metadata": {},
   "outputs": [
    {
     "data": {
      "text/plain": [
       "0.8053333333333333"
      ]
     },
     "execution_count": 77,
     "metadata": {},
     "output_type": "execute_result"
    }
   ],
   "source": [
    "(324+5112)/6750"
   ]
  },
  {
   "cell_type": "markdown",
   "id": "78592473",
   "metadata": {},
   "source": [
    "# K-fold cross validation\n",
    "\n"
   ]
  },
  {
   "cell_type": "markdown",
   "id": "088dcf05",
   "metadata": {},
   "source": [
    "# Objective"
   ]
  },
  {
   "cell_type": "markdown",
   "id": "561002b1",
   "metadata": {},
   "source": [
    "Build a logistic regression with k-fold cross validation. Find the model performance metrics such as Accuracy, ROC-AUC score, Confusion matrix (Precision, Recall and F1-score) on the best model of cross validation."
   ]
  },
  {
   "cell_type": "code",
   "execution_count": 108,
   "id": "cfbf4c83",
   "metadata": {},
   "outputs": [],
   "source": [
    "#Importing Libraries\n",
    "from sklearn.model_selection import KFold \n",
    "from sklearn.linear_model import LogisticRegression\n",
    "from sklearn.metrics import accuracy_score\n",
    "from sklearn import model_selection"
   ]
  },
  {
   "cell_type": "code",
   "execution_count": 109,
   "id": "fe7ddff0",
   "metadata": {},
   "outputs": [],
   "source": [
    "from sklearn.metrics import make_scorer, accuracy_score, precision_score, recall_score, f1_score"
   ]
  },
  {
   "cell_type": "code",
   "execution_count": 114,
   "id": "511f9be1",
   "metadata": {},
   "outputs": [],
   "source": [
    "scoring = {'accuracy' : make_scorer(accuracy_score), \n",
    "           'precision' : make_scorer(precision_score),\n",
    "           'recall' : make_scorer(recall_score), \n",
    "           'f1_score' : make_scorer(f1_score)}"
   ]
  },
  {
   "cell_type": "code",
   "execution_count": 122,
   "id": "03400ee6",
   "metadata": {},
   "outputs": [],
   "source": [
    "kf = KFold(n_splits=10, random_state=42, shuffle=True)\n",
    "model = LogisticRegression(solver= 'saga', max_iter=300)\n",
    "result=model_selection.cross_validate(model, X_train_scaled, Y_train, cv=kf, scoring=scoring, return_train_score=True,\n",
    "                                     return_estimator=True)\n"
   ]
  },
  {
   "cell_type": "code",
   "execution_count": 127,
   "id": "29e656c3",
   "metadata": {},
   "outputs": [
    {
     "data": {
      "text/plain": [
       "{'fit_time': array([0.67505217, 0.69206381, 0.66528368, 0.66396356, 0.68568969,\n",
       "        0.57602477, 0.57536197, 0.57422066, 0.69700718, 0.71977282]),\n",
       " 'score_time': array([0.01606297, 0.00800252, 0.01502371, 0.02609205, 0.01552582,\n",
       "        0.01565814, 0.        , 0.00962663, 0.02332473, 0.0155921 ]),\n",
       " 'estimator': [LogisticRegression(max_iter=300, solver='saga'),\n",
       "  LogisticRegression(max_iter=300, solver='saga'),\n",
       "  LogisticRegression(max_iter=300, solver='saga'),\n",
       "  LogisticRegression(max_iter=300, solver='saga'),\n",
       "  LogisticRegression(max_iter=300, solver='saga'),\n",
       "  LogisticRegression(max_iter=300, solver='saga'),\n",
       "  LogisticRegression(max_iter=300, solver='saga'),\n",
       "  LogisticRegression(max_iter=300, solver='saga'),\n",
       "  LogisticRegression(max_iter=300, solver='saga'),\n",
       "  LogisticRegression(max_iter=300, solver='saga')],\n",
       " 'test_accuracy': array([0.81580247, 0.80740741, 0.80345679, 0.81382716, 0.81234568,\n",
       "        0.79753086, 0.80938272, 0.81333333, 0.80395062, 0.79604938]),\n",
       " 'train_accuracy': array([0.80762689, 0.80702332, 0.80971193, 0.80751715, 0.80702332,\n",
       "        0.80877915, 0.80718793, 0.80674897, 0.80702332, 0.80839506]),\n",
       " 'test_precision': array([0.74820144, 0.71851852, 0.63448276, 0.72666667, 0.68217054,\n",
       "        0.68345324, 0.75833333, 0.74603175, 0.73134328, 0.69230769]),\n",
       " 'train_precision': array([0.71242892, 0.70919635, 0.72143975, 0.71022727, 0.71616079,\n",
       "        0.71393643, 0.7101569 , 0.70981039, 0.70921386, 0.7111293 ]),\n",
       " 'test_recall': array([0.23529412, 0.21603563, 0.21052632, 0.24494382, 0.20608899,\n",
       "        0.20607375, 0.203125  , 0.21363636, 0.21350763, 0.19438445]),\n",
       " 'train_recall': array([0.21767188, 0.21282944, 0.22855726, 0.21733731, 0.21587537,\n",
       "        0.21845387, 0.21377082, 0.21359464, 0.20912263, 0.21681637]),\n",
       " 'test_f1_score': array([0.35800344, 0.33219178, 0.3161512 , 0.36638655, 0.31654676,\n",
       "        0.31666667, 0.32042254, 0.33215548, 0.33052277, 0.30354132]),\n",
       " 'train_f1_score': array([0.33346008, 0.32740486, 0.34713855, 0.33282617, 0.33174995,\n",
       "        0.33454268, 0.32862056, 0.32837529, 0.32300289, 0.33231358])}"
      ]
     },
     "execution_count": 127,
     "metadata": {},
     "output_type": "execute_result"
    }
   ],
   "source": [
    "result"
   ]
  },
  {
   "cell_type": "code",
   "execution_count": 130,
   "id": "8d9771d1",
   "metadata": {
    "scrolled": true
   },
   "outputs": [
    {
     "name": "stdout",
     "output_type": "stream",
     "text": [
      "Best F1-score is 0.36638655462184877\n",
      "Precision at best f1-score iteration is 0.7266666666666667\n",
      "Recall at best F1-score iteration is 0.2449438202247191\n",
      "Accuracy at best F1-score iteration is 0.8138271604938272\n"
     ]
    }
   ],
   "source": [
    "best_iteration = result[\"test_f1_score\"].argmax()\n",
    "best_f1_score = result[\"test_f1_score\"][best_iteration]\n",
    "print(f\"Best F1-score is {best_f1_score}\")\n",
    "\n",
    "best_precision = result[\"test_precision\"][best_iteration]\n",
    "print(f\"Precision at best f1-score iteration is {best_precision}\")\n",
    "\n",
    "best_f1_recall = result[\"test_recall\"][best_iteration]\n",
    "print(f\"Recall at best F1-score iteration is {best_f1_recall}\")\n",
    "\n",
    "best_accuracy = result[\"test_accuracy\"][best_iteration]\n",
    "print(f\"Accuracy at best F1-score iteration is {best_accuracy}\")\n",
    "\n",
    "\n"
   ]
  },
  {
   "cell_type": "code",
   "execution_count": 167,
   "id": "ceeb2f2b",
   "metadata": {},
   "outputs": [],
   "source": [
    "best_model = result[\"estimator\"][2]\n",
    "#done through checking for test data\n"
   ]
  },
  {
   "cell_type": "markdown",
   "id": "e48e896f",
   "metadata": {},
   "source": [
    "TRAINING DATA EVALUATION IN K-Fold CV"
   ]
  },
  {
   "cell_type": "code",
   "execution_count": 168,
   "id": "d5fbf672",
   "metadata": {
    "scrolled": true
   },
   "outputs": [
    {
     "name": "stdout",
     "output_type": "stream",
     "text": [
      "(20250,)\n",
      "(array([0, 1], dtype=int64), array([18827,  1423], dtype=int64))\n",
      "TP is 1014\n",
      "FP is 409\n",
      "FN is 3457\n",
      "TN is 15370\n",
      "Precision is 0.7125790583274771\n",
      "Recall is 0.22679490046969358\n",
      "F1-score is 0.34407872412623003\n",
      "ROC AUC score is 0.7176287535325816\n",
      "Accuracy score is 0.8090864197530864\n"
     ]
    }
   ],
   "source": [
    "#predictions\n",
    "Y_pred_train=best_model.predict(X_train_scaled)\n",
    "print(Y_pred_train.shape)\n",
    "print(np.unique(Y_pred_train, return_counts=True))\n",
    "Y_pred_trainprob = logreg_scaled.predict_proba(X_train_scaled)\n",
    "\n",
    "tn, fp, fn, tp =metrics.confusion_matrix(Y_train, Y_pred_train).ravel()\n",
    "print(f\"TP is {tp}\")\n",
    "print(f\"FP is {fp}\")\n",
    "print(f\"FN is {fn}\")\n",
    "print(f\"TN is {tn}\")\n",
    "\n",
    "precision = tp/(tp+fp)\n",
    "print(f\"Precision is {precision}\")\n",
    "recall = tp/(tp+fn)\n",
    "print(f\"Recall is {recall}\")\n",
    "f1 = 2*precision*recall /(precision+recall)\n",
    "print(f\"F1-score is {f1}\")\n",
    "\n",
    "roc_auc = metrics.roc_auc_score(Y_train, Y_pred_trainprob[:,1])\n",
    "print(f\"ROC AUC score is {roc_auc}\")\n",
    "\n",
    "accuracy_score = metrics.accuracy_score(Y_train, Y_pred_train)\n",
    "print(f\"Accuracy score is {accuracy_score}\")\n",
    "\n"
   ]
  },
  {
   "cell_type": "markdown",
   "id": "14db7094",
   "metadata": {},
   "source": [
    "TEST DATA EVALUATION IN K-Fold CV"
   ]
  },
  {
   "cell_type": "code",
   "execution_count": 170,
   "id": "21ac5ae7",
   "metadata": {},
   "outputs": [
    {
     "name": "stdout",
     "output_type": "stream",
     "text": [
      "(6750,)\n",
      "TP is 338\n",
      "FP is 140\n",
      "FN is 1164\n",
      "TN is 5108\n",
      "Precision is 0.7071129707112971\n",
      "Recall is 0.22503328894806923\n",
      "F1-score is 0.3414141414141414\n",
      "ROC AUC score is 0.7262972286950732\n",
      "Accuracy score is 0.8068148148148148\n"
     ]
    }
   ],
   "source": [
    "#predictions\n",
    "Y_pred=best_model.predict(X_test_scaled)\n",
    "print(Y_pred.shape)\n",
    "Y_pred_prob = logreg_scaled.predict_proba(X_test_scaled)\n",
    "np.unique(Y_pred, return_counts=True)\n",
    "\n",
    "tn, fp, fn, tp = metrics.confusion_matrix(Y_test, Y_pred).ravel()\n",
    "\n",
    "print(f\"TP is {tp}\")\n",
    "print(f\"FP is {fp}\")\n",
    "print(f\"FN is {fn}\")\n",
    "print(f\"TN is {tn}\")\n",
    "\n",
    "precision = tp/(tp+fp)\n",
    "print(f\"Precision is {precision}\")\n",
    "recall = tp/(tp+fn)\n",
    "print(f\"Recall is {recall}\")\n",
    "f1 = 2*precision*recall /(precision+recall)\n",
    "print(f\"F1-score is {f1}\")\n",
    "\n",
    "roc_auc = metrics.roc_auc_score(Y_test, Y_pred_prob[:,1])\n",
    "print(f\"ROC AUC score is {roc_auc}\")\n",
    "\n",
    "accuracy_score = metrics.accuracy_score(Y_test, Y_pred)\n",
    "print(f\"Accuracy score is {accuracy_score}\")\n"
   ]
  },
  {
   "cell_type": "markdown",
   "id": "49d9f946",
   "metadata": {},
   "source": [
    "# Regularization"
   ]
  },
  {
   "cell_type": "markdown",
   "id": "cf96c228",
   "metadata": {},
   "source": [
    "It is not needed since its less likely to find the evidence of overfitting."
   ]
  },
  {
   "cell_type": "markdown",
   "id": "9d296c98",
   "metadata": {},
   "source": [
    "# Feature Engineering"
   ]
  },
  {
   "cell_type": "code",
   "execution_count": 178,
   "id": "cb313d34",
   "metadata": {},
   "outputs": [
    {
     "data": {
      "text/html": [
       "<div>\n",
       "<style scoped>\n",
       "    .dataframe tbody tr th:only-of-type {\n",
       "        vertical-align: middle;\n",
       "    }\n",
       "\n",
       "    .dataframe tbody tr th {\n",
       "        vertical-align: top;\n",
       "    }\n",
       "\n",
       "    .dataframe thead th {\n",
       "        text-align: right;\n",
       "    }\n",
       "</style>\n",
       "<table border=\"1\" class=\"dataframe\">\n",
       "  <thead>\n",
       "    <tr style=\"text-align: right;\">\n",
       "      <th></th>\n",
       "      <th>X1</th>\n",
       "      <th>X2</th>\n",
       "      <th>X3</th>\n",
       "      <th>X4</th>\n",
       "      <th>X5</th>\n",
       "      <th>X6</th>\n",
       "      <th>X7</th>\n",
       "      <th>X8</th>\n",
       "      <th>X9</th>\n",
       "      <th>X10</th>\n",
       "      <th>...</th>\n",
       "      <th>X15</th>\n",
       "      <th>X16</th>\n",
       "      <th>X17</th>\n",
       "      <th>X18</th>\n",
       "      <th>X19</th>\n",
       "      <th>X20</th>\n",
       "      <th>X21</th>\n",
       "      <th>X22</th>\n",
       "      <th>X23</th>\n",
       "      <th>X2_X3</th>\n",
       "    </tr>\n",
       "  </thead>\n",
       "  <tbody>\n",
       "    <tr>\n",
       "      <th>6518</th>\n",
       "      <td>80000</td>\n",
       "      <td>1</td>\n",
       "      <td>2</td>\n",
       "      <td>2</td>\n",
       "      <td>27</td>\n",
       "      <td>2</td>\n",
       "      <td>-1</td>\n",
       "      <td>-1</td>\n",
       "      <td>0</td>\n",
       "      <td>0</td>\n",
       "      <td>...</td>\n",
       "      <td>35783</td>\n",
       "      <td>35488</td>\n",
       "      <td>36020</td>\n",
       "      <td>700</td>\n",
       "      <td>1074</td>\n",
       "      <td>35000</td>\n",
       "      <td>1300</td>\n",
       "      <td>1400</td>\n",
       "      <td>1300</td>\n",
       "      <td>12</td>\n",
       "    </tr>\n",
       "    <tr>\n",
       "      <th>16398</th>\n",
       "      <td>20000</td>\n",
       "      <td>2</td>\n",
       "      <td>3</td>\n",
       "      <td>1</td>\n",
       "      <td>42</td>\n",
       "      <td>0</td>\n",
       "      <td>0</td>\n",
       "      <td>0</td>\n",
       "      <td>0</td>\n",
       "      <td>0</td>\n",
       "      <td>...</td>\n",
       "      <td>17496</td>\n",
       "      <td>18219</td>\n",
       "      <td>18783</td>\n",
       "      <td>1300</td>\n",
       "      <td>1300</td>\n",
       "      <td>1280</td>\n",
       "      <td>1000</td>\n",
       "      <td>1000</td>\n",
       "      <td>1107</td>\n",
       "      <td>23</td>\n",
       "    </tr>\n",
       "    <tr>\n",
       "      <th>16267</th>\n",
       "      <td>190000</td>\n",
       "      <td>2</td>\n",
       "      <td>3</td>\n",
       "      <td>2</td>\n",
       "      <td>46</td>\n",
       "      <td>0</td>\n",
       "      <td>0</td>\n",
       "      <td>0</td>\n",
       "      <td>0</td>\n",
       "      <td>0</td>\n",
       "      <td>...</td>\n",
       "      <td>132016</td>\n",
       "      <td>134632</td>\n",
       "      <td>137470</td>\n",
       "      <td>4536</td>\n",
       "      <td>4696</td>\n",
       "      <td>4791</td>\n",
       "      <td>4811</td>\n",
       "      <td>5000</td>\n",
       "      <td>5033</td>\n",
       "      <td>23</td>\n",
       "    </tr>\n",
       "    <tr>\n",
       "      <th>24679</th>\n",
       "      <td>230000</td>\n",
       "      <td>2</td>\n",
       "      <td>1</td>\n",
       "      <td>2</td>\n",
       "      <td>28</td>\n",
       "      <td>-1</td>\n",
       "      <td>0</td>\n",
       "      <td>0</td>\n",
       "      <td>0</td>\n",
       "      <td>0</td>\n",
       "      <td>...</td>\n",
       "      <td>39998</td>\n",
       "      <td>23278</td>\n",
       "      <td>27775</td>\n",
       "      <td>12000</td>\n",
       "      <td>2353</td>\n",
       "      <td>5000</td>\n",
       "      <td>0</td>\n",
       "      <td>8000</td>\n",
       "      <td>643</td>\n",
       "      <td>21</td>\n",
       "    </tr>\n",
       "    <tr>\n",
       "      <th>15202</th>\n",
       "      <td>50000</td>\n",
       "      <td>2</td>\n",
       "      <td>2</td>\n",
       "      <td>2</td>\n",
       "      <td>23</td>\n",
       "      <td>3</td>\n",
       "      <td>2</td>\n",
       "      <td>2</td>\n",
       "      <td>2</td>\n",
       "      <td>0</td>\n",
       "      <td>...</td>\n",
       "      <td>24693</td>\n",
       "      <td>25283</td>\n",
       "      <td>27367</td>\n",
       "      <td>0</td>\n",
       "      <td>3200</td>\n",
       "      <td>910</td>\n",
       "      <td>1000</td>\n",
       "      <td>2500</td>\n",
       "      <td>0</td>\n",
       "      <td>22</td>\n",
       "    </tr>\n",
       "    <tr>\n",
       "      <th>...</th>\n",
       "      <td>...</td>\n",
       "      <td>...</td>\n",
       "      <td>...</td>\n",
       "      <td>...</td>\n",
       "      <td>...</td>\n",
       "      <td>...</td>\n",
       "      <td>...</td>\n",
       "      <td>...</td>\n",
       "      <td>...</td>\n",
       "      <td>...</td>\n",
       "      <td>...</td>\n",
       "      <td>...</td>\n",
       "      <td>...</td>\n",
       "      <td>...</td>\n",
       "      <td>...</td>\n",
       "      <td>...</td>\n",
       "      <td>...</td>\n",
       "      <td>...</td>\n",
       "      <td>...</td>\n",
       "      <td>...</td>\n",
       "      <td>...</td>\n",
       "    </tr>\n",
       "    <tr>\n",
       "      <th>21576</th>\n",
       "      <td>60000</td>\n",
       "      <td>2</td>\n",
       "      <td>1</td>\n",
       "      <td>2</td>\n",
       "      <td>24</td>\n",
       "      <td>0</td>\n",
       "      <td>0</td>\n",
       "      <td>0</td>\n",
       "      <td>0</td>\n",
       "      <td>0</td>\n",
       "      <td>...</td>\n",
       "      <td>32158</td>\n",
       "      <td>28991</td>\n",
       "      <td>28434</td>\n",
       "      <td>1553</td>\n",
       "      <td>2000</td>\n",
       "      <td>1508</td>\n",
       "      <td>1080</td>\n",
       "      <td>1003</td>\n",
       "      <td>1000</td>\n",
       "      <td>21</td>\n",
       "    </tr>\n",
       "    <tr>\n",
       "      <th>5391</th>\n",
       "      <td>200000</td>\n",
       "      <td>1</td>\n",
       "      <td>1</td>\n",
       "      <td>2</td>\n",
       "      <td>37</td>\n",
       "      <td>2</td>\n",
       "      <td>2</td>\n",
       "      <td>2</td>\n",
       "      <td>2</td>\n",
       "      <td>2</td>\n",
       "      <td>...</td>\n",
       "      <td>164182</td>\n",
       "      <td>169029</td>\n",
       "      <td>172084</td>\n",
       "      <td>13500</td>\n",
       "      <td>6000</td>\n",
       "      <td>0</td>\n",
       "      <td>7500</td>\n",
       "      <td>6000</td>\n",
       "      <td>4000</td>\n",
       "      <td>11</td>\n",
       "    </tr>\n",
       "    <tr>\n",
       "      <th>861</th>\n",
       "      <td>50000</td>\n",
       "      <td>1</td>\n",
       "      <td>1</td>\n",
       "      <td>2</td>\n",
       "      <td>26</td>\n",
       "      <td>-2</td>\n",
       "      <td>-2</td>\n",
       "      <td>-2</td>\n",
       "      <td>-2</td>\n",
       "      <td>-2</td>\n",
       "      <td>...</td>\n",
       "      <td>0</td>\n",
       "      <td>0</td>\n",
       "      <td>0</td>\n",
       "      <td>0</td>\n",
       "      <td>0</td>\n",
       "      <td>0</td>\n",
       "      <td>0</td>\n",
       "      <td>0</td>\n",
       "      <td>0</td>\n",
       "      <td>11</td>\n",
       "    </tr>\n",
       "    <tr>\n",
       "      <th>15796</th>\n",
       "      <td>70000</td>\n",
       "      <td>2</td>\n",
       "      <td>2</td>\n",
       "      <td>2</td>\n",
       "      <td>25</td>\n",
       "      <td>0</td>\n",
       "      <td>0</td>\n",
       "      <td>0</td>\n",
       "      <td>0</td>\n",
       "      <td>2</td>\n",
       "      <td>...</td>\n",
       "      <td>35122</td>\n",
       "      <td>28633</td>\n",
       "      <td>28039</td>\n",
       "      <td>3000</td>\n",
       "      <td>2000</td>\n",
       "      <td>4500</td>\n",
       "      <td>1200</td>\n",
       "      <td>0</td>\n",
       "      <td>1200</td>\n",
       "      <td>22</td>\n",
       "    </tr>\n",
       "    <tr>\n",
       "      <th>23655</th>\n",
       "      <td>160000</td>\n",
       "      <td>2</td>\n",
       "      <td>2</td>\n",
       "      <td>1</td>\n",
       "      <td>36</td>\n",
       "      <td>-2</td>\n",
       "      <td>-2</td>\n",
       "      <td>-2</td>\n",
       "      <td>-2</td>\n",
       "      <td>-2</td>\n",
       "      <td>...</td>\n",
       "      <td>2935</td>\n",
       "      <td>1603</td>\n",
       "      <td>14129</td>\n",
       "      <td>0</td>\n",
       "      <td>3660</td>\n",
       "      <td>3135</td>\n",
       "      <td>1650</td>\n",
       "      <td>14200</td>\n",
       "      <td>1500</td>\n",
       "      <td>22</td>\n",
       "    </tr>\n",
       "  </tbody>\n",
       "</table>\n",
       "<p>20250 rows × 24 columns</p>\n",
       "</div>"
      ],
      "text/plain": [
       "           X1  X2  X3  X4  X5  X6  X7  X8  X9  X10  ...     X15     X16  \\\n",
       "6518    80000   1   2   2  27   2  -1  -1   0    0  ...   35783   35488   \n",
       "16398   20000   2   3   1  42   0   0   0   0    0  ...   17496   18219   \n",
       "16267  190000   2   3   2  46   0   0   0   0    0  ...  132016  134632   \n",
       "24679  230000   2   1   2  28  -1   0   0   0    0  ...   39998   23278   \n",
       "15202   50000   2   2   2  23   3   2   2   2    0  ...   24693   25283   \n",
       "...       ...  ..  ..  ..  ..  ..  ..  ..  ..  ...  ...     ...     ...   \n",
       "21576   60000   2   1   2  24   0   0   0   0    0  ...   32158   28991   \n",
       "5391   200000   1   1   2  37   2   2   2   2    2  ...  164182  169029   \n",
       "861     50000   1   1   2  26  -2  -2  -2  -2   -2  ...       0       0   \n",
       "15796   70000   2   2   2  25   0   0   0   0    2  ...   35122   28633   \n",
       "23655  160000   2   2   1  36  -2  -2  -2  -2   -2  ...    2935    1603   \n",
       "\n",
       "          X17    X18   X19    X20   X21    X22   X23  X2_X3  \n",
       "6518    36020    700  1074  35000  1300   1400  1300     12  \n",
       "16398   18783   1300  1300   1280  1000   1000  1107     23  \n",
       "16267  137470   4536  4696   4791  4811   5000  5033     23  \n",
       "24679   27775  12000  2353   5000     0   8000   643     21  \n",
       "15202   27367      0  3200    910  1000   2500     0     22  \n",
       "...       ...    ...   ...    ...   ...    ...   ...    ...  \n",
       "21576   28434   1553  2000   1508  1080   1003  1000     21  \n",
       "5391   172084  13500  6000      0  7500   6000  4000     11  \n",
       "861         0      0     0      0     0      0     0     11  \n",
       "15796   28039   3000  2000   4500  1200      0  1200     22  \n",
       "23655   14129      0  3660   3135  1650  14200  1500     22  \n",
       "\n",
       "[20250 rows x 24 columns]"
      ]
     },
     "execution_count": 178,
     "metadata": {},
     "output_type": "execute_result"
    }
   ],
   "source": [
    "X_train"
   ]
  },
  {
   "cell_type": "code",
   "execution_count": 222,
   "id": "5d512018",
   "metadata": {},
   "outputs": [
    {
     "data": {
      "text/plain": [
       "X3\n",
       "2     9511\n",
       "1     7183\n",
       "3     3250\n",
       "4      306\n",
       "dtype: int64"
      ]
     },
     "execution_count": 222,
     "metadata": {},
     "output_type": "execute_result"
    }
   ],
   "source": [
    "X_train_education=X_train[[\"X3\"]]\n",
    "X_test_education = X_test[[\"X3\"]]\n",
    "X_train_education.value_counts()"
   ]
  },
  {
   "cell_type": "code",
   "execution_count": 204,
   "id": "50bbf765",
   "metadata": {},
   "outputs": [],
   "source": [
    "logreg = LogisticRegression(solver=\"saga\", max_iter=500)"
   ]
  },
  {
   "cell_type": "code",
   "execution_count": 205,
   "id": "c46ed510",
   "metadata": {},
   "outputs": [
    {
     "data": {
      "text/plain": [
       "LogisticRegression(max_iter=500, solver='saga')"
      ]
     },
     "execution_count": 205,
     "metadata": {},
     "output_type": "execute_result"
    }
   ],
   "source": [
    "logreg.fit(X_train_education, Y_train)"
   ]
  },
  {
   "cell_type": "code",
   "execution_count": 213,
   "id": "ece3f865",
   "metadata": {},
   "outputs": [
    {
     "data": {
      "text/plain": [
       "(20250, 4)"
      ]
     },
     "execution_count": 213,
     "metadata": {},
     "output_type": "execute_result"
    }
   ],
   "source": [
    "#OneHot Encoding\n",
    "\n",
    "enc = preprocessing.OneHotEncoder()\n",
    "enc.fit(X_train_education)\n",
    "onehotlabels = enc.transform(X_train_education).toarray()\n",
    "onehotlabels.shape"
   ]
  },
  {
   "cell_type": "code",
   "execution_count": 214,
   "id": "3cde5b6e",
   "metadata": {},
   "outputs": [
    {
     "data": {
      "text/plain": [
       "array([[0., 1., 0., 0.],\n",
       "       [0., 0., 1., 0.],\n",
       "       [0., 0., 1., 0.],\n",
       "       ...,\n",
       "       [1., 0., 0., 0.],\n",
       "       [0., 1., 0., 0.],\n",
       "       [0., 1., 0., 0.]])"
      ]
     },
     "execution_count": 214,
     "metadata": {},
     "output_type": "execute_result"
    }
   ],
   "source": [
    "onehotlabels"
   ]
  },
  {
   "cell_type": "code",
   "execution_count": 224,
   "id": "a8da9d2d",
   "metadata": {},
   "outputs": [],
   "source": [
    "logreg = LogisticRegression(solver=\"saga\", max_iter=500)"
   ]
  },
  {
   "cell_type": "code",
   "execution_count": 225,
   "id": "8affe2f9",
   "metadata": {},
   "outputs": [
    {
     "data": {
      "text/plain": [
       "LogisticRegression(max_iter=500, solver='saga')"
      ]
     },
     "execution_count": 225,
     "metadata": {},
     "output_type": "execute_result"
    }
   ],
   "source": [
    "logreg.fit(X_train_education, Y_train)"
   ]
  },
  {
   "cell_type": "code",
   "execution_count": 249,
   "id": "0b099c00",
   "metadata": {},
   "outputs": [
    {
     "name": "stdout",
     "output_type": "stream",
     "text": [
      "(array([0, 1]), array([2400, 4350], dtype=int64))\n",
      "0.24114942528735633\n",
      "0.6984021304926764\n",
      "F1-score is 0.3585099111414901\n"
     ]
    }
   ],
   "source": [
    "Y_pred_proba = logreg.predict_proba(X_test_education)[:,1]\n",
    "Y_pred_proba[0:10]\n",
    "Y_pred_classes = np.array([1 if val >= 0.21 else 0 for val in Y_pred_proba])\n",
    "print(np.unique(Y_pred_classes, return_counts=True))\n",
    "\n",
    "tn, fp, fn, tp = metrics.confusion_matrix(Y_test, Y_pred_classes).ravel()\n",
    "\n",
    "precision = tp/(tp+fp)\n",
    "print(precision)\n",
    "\n",
    "recall = tp/(tp+fn)\n",
    "print(recall)\n",
    "\n",
    "f1 = 2*precision*recall /(precision+recall)\n",
    "print(f\"F1-score is {f1}\")"
   ]
  },
  {
   "cell_type": "code",
   "execution_count": 221,
   "id": "899b3cc9",
   "metadata": {},
   "outputs": [
    {
     "name": "stdout",
     "output_type": "stream",
     "text": [
      "(20250,)\n",
      "nan\n",
      "0.0\n",
      "F1-score is nan\n"
     ]
    },
    {
     "name": "stderr",
     "output_type": "stream",
     "text": [
      "<ipython-input-221-be1729b9850f>:10: RuntimeWarning: invalid value encountered in longlong_scalars\n",
      "  precision = tp/(tp+fp)\n"
     ]
    }
   ],
   "source": [
    "#predictions\n",
    "Y_pred=logreg.predict(X_test)\n",
    "Y_pred_proba = logreg.predict_proba(X_test)\n",
    "print(Y_pred.shape)\n",
    "import numpy as np\n",
    "from sklearn import metrics\n",
    "np.unique(Y_pred, return_counts=True)\n",
    "\n",
    "tn, fp, fn, tp = metrics.confusion_matrix(Y_train, Y_pred).ravel()\n",
    "\n",
    "precision = tp/(tp+fp)\n",
    "print(precision)\n",
    "\n",
    "recall = tp/(tp+fn)\n",
    "print(recall)\n",
    "\n",
    "f1 = 2*precision*recall /(precision+recall)\n",
    "print(f\"F1-score is {f1}\")"
   ]
  },
  {
   "cell_type": "markdown",
   "id": "3026f7e9",
   "metadata": {},
   "source": [
    "# TESTING ON UNSEEN DATA"
   ]
  },
  {
   "cell_type": "code",
   "execution_count": 300,
   "id": "aadcbd32",
   "metadata": {},
   "outputs": [],
   "source": [
    "df_test= pd.read_csv(\"test2.csv\").iloc[1:,:]"
   ]
  },
  {
   "cell_type": "code",
   "execution_count": 301,
   "id": "ab7c2526",
   "metadata": {},
   "outputs": [],
   "source": [
    "\n",
    "df_id=df_test [\"ID\"]"
   ]
  },
  {
   "cell_type": "code",
   "execution_count": 302,
   "id": "96eac68c",
   "metadata": {},
   "outputs": [],
   "source": [
    "df_id\n",
    "df_test.drop(columns=[\"ID\"], inplace=True,)"
   ]
  },
  {
   "cell_type": "code",
   "execution_count": 303,
   "id": "690ed712",
   "metadata": {},
   "outputs": [],
   "source": [
    "df_test.drop(columns=[\"Y\"], inplace=True,)"
   ]
  },
  {
   "cell_type": "code",
   "execution_count": 304,
   "id": "ecc849c1",
   "metadata": {},
   "outputs": [],
   "source": [
    "X_score=df_test[[\"X1\", \"X2\", \"X3\",'X4', 'X5', 'X6', 'X7', 'X8', 'X9', 'X10', 'X11',\n",
    "       'X12', 'X13', 'X14', 'X15', 'X16', 'X17', 'X18', 'X19', 'X20', 'X21',\n",
    "       'X22', 'X23']]"
   ]
  },
  {
   "cell_type": "code",
   "execution_count": 305,
   "id": "67371884",
   "metadata": {},
   "outputs": [
    {
     "data": {
      "text/html": [
       "<div>\n",
       "<style scoped>\n",
       "    .dataframe tbody tr th:only-of-type {\n",
       "        vertical-align: middle;\n",
       "    }\n",
       "\n",
       "    .dataframe tbody tr th {\n",
       "        vertical-align: top;\n",
       "    }\n",
       "\n",
       "    .dataframe thead th {\n",
       "        text-align: right;\n",
       "    }\n",
       "</style>\n",
       "<table border=\"1\" class=\"dataframe\">\n",
       "  <thead>\n",
       "    <tr style=\"text-align: right;\">\n",
       "      <th></th>\n",
       "      <th>X1</th>\n",
       "      <th>X2</th>\n",
       "      <th>X3</th>\n",
       "      <th>X4</th>\n",
       "      <th>X5</th>\n",
       "      <th>X6</th>\n",
       "      <th>X7</th>\n",
       "      <th>X8</th>\n",
       "      <th>X9</th>\n",
       "      <th>X10</th>\n",
       "      <th>...</th>\n",
       "      <th>X14</th>\n",
       "      <th>X15</th>\n",
       "      <th>X16</th>\n",
       "      <th>X17</th>\n",
       "      <th>X18</th>\n",
       "      <th>X19</th>\n",
       "      <th>X20</th>\n",
       "      <th>X21</th>\n",
       "      <th>X22</th>\n",
       "      <th>X23</th>\n",
       "    </tr>\n",
       "  </thead>\n",
       "  <tbody>\n",
       "    <tr>\n",
       "      <th>1</th>\n",
       "      <td>300000</td>\n",
       "      <td>1</td>\n",
       "      <td>2</td>\n",
       "      <td>1</td>\n",
       "      <td>45</td>\n",
       "      <td>-1</td>\n",
       "      <td>-1</td>\n",
       "      <td>-1</td>\n",
       "      <td>-1</td>\n",
       "      <td>-1</td>\n",
       "      <td>...</td>\n",
       "      <td>360</td>\n",
       "      <td>360</td>\n",
       "      <td>1440</td>\n",
       "      <td>360</td>\n",
       "      <td>360</td>\n",
       "      <td>360</td>\n",
       "      <td>360</td>\n",
       "      <td>1440</td>\n",
       "      <td>360</td>\n",
       "      <td>360</td>\n",
       "    </tr>\n",
       "    <tr>\n",
       "      <th>2</th>\n",
       "      <td>340000</td>\n",
       "      <td>1</td>\n",
       "      <td>2</td>\n",
       "      <td>2</td>\n",
       "      <td>41</td>\n",
       "      <td>-2</td>\n",
       "      <td>-2</td>\n",
       "      <td>-2</td>\n",
       "      <td>-2</td>\n",
       "      <td>-2</td>\n",
       "      <td>...</td>\n",
       "      <td>-20</td>\n",
       "      <td>4016</td>\n",
       "      <td>6209</td>\n",
       "      <td>2081</td>\n",
       "      <td>3842</td>\n",
       "      <td>0</td>\n",
       "      <td>4036</td>\n",
       "      <td>6254</td>\n",
       "      <td>2091</td>\n",
       "      <td>1917</td>\n",
       "    </tr>\n",
       "    <tr>\n",
       "      <th>3</th>\n",
       "      <td>110000</td>\n",
       "      <td>1</td>\n",
       "      <td>1</td>\n",
       "      <td>2</td>\n",
       "      <td>30</td>\n",
       "      <td>0</td>\n",
       "      <td>0</td>\n",
       "      <td>0</td>\n",
       "      <td>0</td>\n",
       "      <td>2</td>\n",
       "      <td>...</td>\n",
       "      <td>63100</td>\n",
       "      <td>70391</td>\n",
       "      <td>68661</td>\n",
       "      <td>77511</td>\n",
       "      <td>3000</td>\n",
       "      <td>3000</td>\n",
       "      <td>9000</td>\n",
       "      <td>0</td>\n",
       "      <td>10000</td>\n",
       "      <td>3000</td>\n",
       "    </tr>\n",
       "    <tr>\n",
       "      <th>4</th>\n",
       "      <td>50000</td>\n",
       "      <td>1</td>\n",
       "      <td>2</td>\n",
       "      <td>1</td>\n",
       "      <td>41</td>\n",
       "      <td>0</td>\n",
       "      <td>0</td>\n",
       "      <td>0</td>\n",
       "      <td>0</td>\n",
       "      <td>0</td>\n",
       "      <td>...</td>\n",
       "      <td>7471</td>\n",
       "      <td>8043</td>\n",
       "      <td>19526</td>\n",
       "      <td>7564</td>\n",
       "      <td>1200</td>\n",
       "      <td>2000</td>\n",
       "      <td>2000</td>\n",
       "      <td>3000</td>\n",
       "      <td>1000</td>\n",
       "      <td>10640</td>\n",
       "    </tr>\n",
       "    <tr>\n",
       "      <th>5</th>\n",
       "      <td>20000</td>\n",
       "      <td>1</td>\n",
       "      <td>2</td>\n",
       "      <td>1</td>\n",
       "      <td>40</td>\n",
       "      <td>0</td>\n",
       "      <td>0</td>\n",
       "      <td>0</td>\n",
       "      <td>0</td>\n",
       "      <td>0</td>\n",
       "      <td>...</td>\n",
       "      <td>5622</td>\n",
       "      <td>19263</td>\n",
       "      <td>18433</td>\n",
       "      <td>26132</td>\n",
       "      <td>3010</td>\n",
       "      <td>2010</td>\n",
       "      <td>15000</td>\n",
       "      <td>4000</td>\n",
       "      <td>2000</td>\n",
       "      <td>2000</td>\n",
       "    </tr>\n",
       "    <tr>\n",
       "      <th>...</th>\n",
       "      <td>...</td>\n",
       "      <td>...</td>\n",
       "      <td>...</td>\n",
       "      <td>...</td>\n",
       "      <td>...</td>\n",
       "      <td>...</td>\n",
       "      <td>...</td>\n",
       "      <td>...</td>\n",
       "      <td>...</td>\n",
       "      <td>...</td>\n",
       "      <td>...</td>\n",
       "      <td>...</td>\n",
       "      <td>...</td>\n",
       "      <td>...</td>\n",
       "      <td>...</td>\n",
       "      <td>...</td>\n",
       "      <td>...</td>\n",
       "      <td>...</td>\n",
       "      <td>...</td>\n",
       "      <td>...</td>\n",
       "      <td>...</td>\n",
       "    </tr>\n",
       "    <tr>\n",
       "      <th>2998</th>\n",
       "      <td>220000</td>\n",
       "      <td>1</td>\n",
       "      <td>3</td>\n",
       "      <td>1</td>\n",
       "      <td>39</td>\n",
       "      <td>0</td>\n",
       "      <td>0</td>\n",
       "      <td>0</td>\n",
       "      <td>0</td>\n",
       "      <td>0</td>\n",
       "      <td>...</td>\n",
       "      <td>208365</td>\n",
       "      <td>88004</td>\n",
       "      <td>31237</td>\n",
       "      <td>15980</td>\n",
       "      <td>8500</td>\n",
       "      <td>20000</td>\n",
       "      <td>5003</td>\n",
       "      <td>3047</td>\n",
       "      <td>5000</td>\n",
       "      <td>1000</td>\n",
       "    </tr>\n",
       "    <tr>\n",
       "      <th>2999</th>\n",
       "      <td>150000</td>\n",
       "      <td>1</td>\n",
       "      <td>3</td>\n",
       "      <td>2</td>\n",
       "      <td>43</td>\n",
       "      <td>-1</td>\n",
       "      <td>-1</td>\n",
       "      <td>-1</td>\n",
       "      <td>-1</td>\n",
       "      <td>0</td>\n",
       "      <td>...</td>\n",
       "      <td>3502</td>\n",
       "      <td>8979</td>\n",
       "      <td>5190</td>\n",
       "      <td>0</td>\n",
       "      <td>1837</td>\n",
       "      <td>3526</td>\n",
       "      <td>8998</td>\n",
       "      <td>129</td>\n",
       "      <td>0</td>\n",
       "      <td>0</td>\n",
       "    </tr>\n",
       "    <tr>\n",
       "      <th>3000</th>\n",
       "      <td>30000</td>\n",
       "      <td>1</td>\n",
       "      <td>2</td>\n",
       "      <td>2</td>\n",
       "      <td>37</td>\n",
       "      <td>4</td>\n",
       "      <td>3</td>\n",
       "      <td>2</td>\n",
       "      <td>-1</td>\n",
       "      <td>0</td>\n",
       "      <td>...</td>\n",
       "      <td>2758</td>\n",
       "      <td>20878</td>\n",
       "      <td>20582</td>\n",
       "      <td>19357</td>\n",
       "      <td>0</td>\n",
       "      <td>0</td>\n",
       "      <td>22000</td>\n",
       "      <td>4200</td>\n",
       "      <td>2000</td>\n",
       "      <td>3100</td>\n",
       "    </tr>\n",
       "    <tr>\n",
       "      <th>3001</th>\n",
       "      <td>80000</td>\n",
       "      <td>1</td>\n",
       "      <td>3</td>\n",
       "      <td>1</td>\n",
       "      <td>41</td>\n",
       "      <td>1</td>\n",
       "      <td>-1</td>\n",
       "      <td>0</td>\n",
       "      <td>0</td>\n",
       "      <td>0</td>\n",
       "      <td>...</td>\n",
       "      <td>76304</td>\n",
       "      <td>52774</td>\n",
       "      <td>11855</td>\n",
       "      <td>48944</td>\n",
       "      <td>85900</td>\n",
       "      <td>3409</td>\n",
       "      <td>1178</td>\n",
       "      <td>1926</td>\n",
       "      <td>52964</td>\n",
       "      <td>1804</td>\n",
       "    </tr>\n",
       "    <tr>\n",
       "      <th>3002</th>\n",
       "      <td>50000</td>\n",
       "      <td>1</td>\n",
       "      <td>2</td>\n",
       "      <td>1</td>\n",
       "      <td>46</td>\n",
       "      <td>0</td>\n",
       "      <td>0</td>\n",
       "      <td>0</td>\n",
       "      <td>0</td>\n",
       "      <td>0</td>\n",
       "      <td>...</td>\n",
       "      <td>49764</td>\n",
       "      <td>36535</td>\n",
       "      <td>32428</td>\n",
       "      <td>15313</td>\n",
       "      <td>2078</td>\n",
       "      <td>1800</td>\n",
       "      <td>1430</td>\n",
       "      <td>1000</td>\n",
       "      <td>1000</td>\n",
       "      <td>1000</td>\n",
       "    </tr>\n",
       "  </tbody>\n",
       "</table>\n",
       "<p>3002 rows × 23 columns</p>\n",
       "</div>"
      ],
      "text/plain": [
       "          X1 X2 X3 X4  X5  X6  X7  X8  X9 X10  ...     X14    X15    X16  \\\n",
       "1     300000  1  2  1  45  -1  -1  -1  -1  -1  ...     360    360   1440   \n",
       "2     340000  1  2  2  41  -2  -2  -2  -2  -2  ...     -20   4016   6209   \n",
       "3     110000  1  1  2  30   0   0   0   0   2  ...   63100  70391  68661   \n",
       "4      50000  1  2  1  41   0   0   0   0   0  ...    7471   8043  19526   \n",
       "5      20000  1  2  1  40   0   0   0   0   0  ...    5622  19263  18433   \n",
       "...      ... .. .. ..  ..  ..  ..  ..  ..  ..  ...     ...    ...    ...   \n",
       "2998  220000  1  3  1  39   0   0   0   0   0  ...  208365  88004  31237   \n",
       "2999  150000  1  3  2  43  -1  -1  -1  -1   0  ...    3502   8979   5190   \n",
       "3000   30000  1  2  2  37   4   3   2  -1   0  ...    2758  20878  20582   \n",
       "3001   80000  1  3  1  41   1  -1   0   0   0  ...   76304  52774  11855   \n",
       "3002   50000  1  2  1  46   0   0   0   0   0  ...   49764  36535  32428   \n",
       "\n",
       "        X17    X18    X19    X20   X21    X22    X23  \n",
       "1       360    360    360    360  1440    360    360  \n",
       "2      2081   3842      0   4036  6254   2091   1917  \n",
       "3     77511   3000   3000   9000     0  10000   3000  \n",
       "4      7564   1200   2000   2000  3000   1000  10640  \n",
       "5     26132   3010   2010  15000  4000   2000   2000  \n",
       "...     ...    ...    ...    ...   ...    ...    ...  \n",
       "2998  15980   8500  20000   5003  3047   5000   1000  \n",
       "2999      0   1837   3526   8998   129      0      0  \n",
       "3000  19357      0      0  22000  4200   2000   3100  \n",
       "3001  48944  85900   3409   1178  1926  52964   1804  \n",
       "3002  15313   2078   1800   1430  1000   1000   1000  \n",
       "\n",
       "[3002 rows x 23 columns]"
      ]
     },
     "execution_count": 305,
     "metadata": {},
     "output_type": "execute_result"
    }
   ],
   "source": [
    "X_score"
   ]
  },
  {
   "cell_type": "code",
   "execution_count": 306,
   "id": "9c8371f2",
   "metadata": {},
   "outputs": [],
   "source": [
    "y_pred_score=logreg_base.predict(X_score)"
   ]
  },
  {
   "cell_type": "code",
   "execution_count": 307,
   "id": "dc2d44b0",
   "metadata": {},
   "outputs": [
    {
     "data": {
      "text/plain": [
       "array([0, 0, 0, ..., 1, 0, 0], dtype=int64)"
      ]
     },
     "execution_count": 307,
     "metadata": {},
     "output_type": "execute_result"
    }
   ],
   "source": [
    "y_pred_score"
   ]
  },
  {
   "cell_type": "code",
   "execution_count": 310,
   "id": "fe78c4da",
   "metadata": {},
   "outputs": [
    {
     "data": {
      "text/html": [
       "<div>\n",
       "<style scoped>\n",
       "    .dataframe tbody tr th:only-of-type {\n",
       "        vertical-align: middle;\n",
       "    }\n",
       "\n",
       "    .dataframe tbody tr th {\n",
       "        vertical-align: top;\n",
       "    }\n",
       "\n",
       "    .dataframe thead th {\n",
       "        text-align: right;\n",
       "    }\n",
       "</style>\n",
       "<table border=\"1\" class=\"dataframe\">\n",
       "  <thead>\n",
       "    <tr style=\"text-align: right;\">\n",
       "      <th></th>\n",
       "      <th>ID</th>\n",
       "      <th>Y</th>\n",
       "    </tr>\n",
       "  </thead>\n",
       "  <tbody>\n",
       "    <tr>\n",
       "      <th>0</th>\n",
       "      <td>1.0</td>\n",
       "      <td>0.0</td>\n",
       "    </tr>\n",
       "    <tr>\n",
       "      <th>1</th>\n",
       "      <td>2.0</td>\n",
       "      <td>0.0</td>\n",
       "    </tr>\n",
       "    <tr>\n",
       "      <th>2</th>\n",
       "      <td>3.0</td>\n",
       "      <td>0.0</td>\n",
       "    </tr>\n",
       "    <tr>\n",
       "      <th>3</th>\n",
       "      <td>4.0</td>\n",
       "      <td>0.0</td>\n",
       "    </tr>\n",
       "    <tr>\n",
       "      <th>4</th>\n",
       "      <td>5.0</td>\n",
       "      <td>0.0</td>\n",
       "    </tr>\n",
       "    <tr>\n",
       "      <th>...</th>\n",
       "      <td>...</td>\n",
       "      <td>...</td>\n",
       "    </tr>\n",
       "    <tr>\n",
       "      <th>2997</th>\n",
       "      <td>2998.0</td>\n",
       "      <td>0.0</td>\n",
       "    </tr>\n",
       "    <tr>\n",
       "      <th>2998</th>\n",
       "      <td>2999.0</td>\n",
       "      <td>0.0</td>\n",
       "    </tr>\n",
       "    <tr>\n",
       "      <th>2999</th>\n",
       "      <td>3000.0</td>\n",
       "      <td>1.0</td>\n",
       "    </tr>\n",
       "    <tr>\n",
       "      <th>3000</th>\n",
       "      <td>3001.0</td>\n",
       "      <td>0.0</td>\n",
       "    </tr>\n",
       "    <tr>\n",
       "      <th>3001</th>\n",
       "      <td>3002.0</td>\n",
       "      <td>0.0</td>\n",
       "    </tr>\n",
       "  </tbody>\n",
       "</table>\n",
       "<p>3002 rows × 2 columns</p>\n",
       "</div>"
      ],
      "text/plain": [
       "          ID    Y\n",
       "0        1.0  0.0\n",
       "1        2.0  0.0\n",
       "2        3.0  0.0\n",
       "3        4.0  0.0\n",
       "4        5.0  0.0\n",
       "...      ...  ...\n",
       "2997  2998.0  0.0\n",
       "2998  2999.0  0.0\n",
       "2999  3000.0  1.0\n",
       "3000  3001.0  0.0\n",
       "3001  3002.0  0.0\n",
       "\n",
       "[3002 rows x 2 columns]"
      ]
     },
     "execution_count": 310,
     "metadata": {},
     "output_type": "execute_result"
    }
   ],
   "source": [
    "submit=pd.DataFrame([df_id.values, y_pred_score]).T\n",
    "submit.columns = [\"ID\",\"Y\"]\n",
    "submit"
   ]
  },
  {
   "cell_type": "code",
   "execution_count": 312,
   "id": "e76224e1",
   "metadata": {},
   "outputs": [
    {
     "data": {
      "text/plain": [
       "0.0    2807\n",
       "1.0     195\n",
       "Name: Y, dtype: int64"
      ]
     },
     "execution_count": 312,
     "metadata": {},
     "output_type": "execute_result"
    }
   ],
   "source": [
    "submit.Y.value_counts()"
   ]
  },
  {
   "cell_type": "code",
   "execution_count": 313,
   "id": "1d245b2f",
   "metadata": {},
   "outputs": [
    {
     "data": {
      "text/plain": [
       "0.065"
      ]
     },
     "execution_count": 313,
     "metadata": {},
     "output_type": "execute_result"
    }
   ],
   "source": [
    "195/3000"
   ]
  },
  {
   "cell_type": "code",
   "execution_count": 314,
   "id": "e395e1bb",
   "metadata": {},
   "outputs": [],
   "source": [
    "submit.to_csv(\"credit_default_predictions.csv\",header=True, index=False)"
   ]
  },
  {
   "cell_type": "code",
   "execution_count": 315,
   "id": "4ae6e2fd",
   "metadata": {},
   "outputs": [
    {
     "data": {
      "text/plain": [
       "'C:\\\\Users\\\\hasla\\\\Movies\\\\Python'"
      ]
     },
     "execution_count": 315,
     "metadata": {},
     "output_type": "execute_result"
    }
   ],
   "source": [
    "pwd"
   ]
  },
  {
   "cell_type": "code",
   "execution_count": null,
   "id": "d8f344cb",
   "metadata": {},
   "outputs": [],
   "source": []
  }
 ],
 "metadata": {
  "kernelspec": {
   "display_name": "Python 3.10.0 64-bit",
   "language": "python",
   "name": "python3"
  },
  "language_info": {
   "codemirror_mode": {
    "name": "ipython",
    "version": 3
   },
   "file_extension": ".py",
   "mimetype": "text/x-python",
   "name": "python",
   "nbconvert_exporter": "python",
   "pygments_lexer": "ipython3",
   "version": "3.10.0"
  },
  "vscode": {
   "interpreter": {
    "hash": "02faaf418be7c24e03e1fd48cd7a886e607807ac1f00affde0e8378e21459432"
   }
  }
 },
 "nbformat": 4,
 "nbformat_minor": 5
}
